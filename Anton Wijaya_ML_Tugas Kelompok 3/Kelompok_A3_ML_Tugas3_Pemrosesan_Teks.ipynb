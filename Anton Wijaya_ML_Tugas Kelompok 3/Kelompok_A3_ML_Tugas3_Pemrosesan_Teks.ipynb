{
  "nbformat": 4,
  "nbformat_minor": 0,
  "metadata": {
    "colab": {
      "provenance": [],
      "collapsed_sections": [
        "mWNwXgACe5Hi",
        "qRPE48eMkzvK"
      ],
      "gpuType": "T4"
    },
    "kernelspec": {
      "name": "python3",
      "display_name": "Python 3"
    },
    "language_info": {
      "name": "python"
    },
    "accelerator": "GPU"
  },
  "cells": [
    {
      "cell_type": "markdown",
      "source": [
        "#Deteksi Spam"
      ],
      "metadata": {
        "id": "gIHa-K2hS9nS"
      }
    },
    {
      "cell_type": "markdown",
      "source": [
        "##Import library dan Dataset"
      ],
      "metadata": {
        "id": "xWo6QR-MTJMY"
      }
    },
    {
      "cell_type": "code",
      "source": [
        "import warnings\n",
        "warnings.filterwarnings(\"ignore\")\n",
        "\n",
        "# Importi library dasat untuk visualiasasi data, pengoperasian mtk, mengolah data, dan membangun AI\n",
        "import numpy as np\n",
        "import pandas as pd\n",
        "import matplotlib.pyplot as plt\n",
        "import tensorflow as tf\n",
        "from tensorflow import keras\n",
        "%matplotlib inline\n",
        "\n",
        "#import library untuk preprocessing data\n",
        "import string\n",
        "import plotly.express as px\n",
        "import tensorflow.data as tfd\n",
        "from sklearn.preprocessing import LabelEncoder\n",
        "from sklearn.model_selection import train_test_split\n",
        "\n",
        "# utk membangun model\n",
        "from sklearn.utils import class_weight\n",
        "from tensorflow.keras import callbacks\n",
        "from tensorflow.keras import Model, layers\n",
        "\n",
        "# Import WordCloud utk visualisasi teks\n",
        "from wordcloud import WordCloud\n",
        "\n",
        "# Import NLTK utk NLP\n",
        "import nltk\n",
        "from nltk.corpus import stopwords    # utk stopword\n",
        "\n",
        "\n",
        "# Download NLTK data\n",
        "nltk.download('stopwords')   # Download stopwords data\n",
        "nltk.download('punkt')       # Download tokenizer data"
      ],
      "metadata": {
        "id": "_qO2kXyGW4ca",
        "colab": {
          "base_uri": "https://localhost:8080/"
        },
        "outputId": "5abd4e64-6bdb-470f-d7d1-d5e63cb3646d"
      },
      "execution_count": null,
      "outputs": [
        {
          "output_type": "stream",
          "name": "stderr",
          "text": [
            "[nltk_data] Downloading package stopwords to /root/nltk_data...\n",
            "[nltk_data]   Unzipping corpora/stopwords.zip.\n",
            "[nltk_data] Downloading package punkt to /root/nltk_data...\n",
            "[nltk_data]   Unzipping tokenizers/punkt.zip.\n"
          ]
        },
        {
          "output_type": "execute_result",
          "data": {
            "text/plain": [
              "True"
            ]
          },
          "metadata": {},
          "execution_count": 1
        }
      ]
    },
    {
      "cell_type": "code",
      "source": [
        "from google.colab import drive # upload dari google drive\n",
        "drive.mount('/content/drive')"
      ],
      "metadata": {
        "id": "FrW6sbGkl-Zy",
        "colab": {
          "base_uri": "https://localhost:8080/"
        },
        "outputId": "ea857844-1f19-442b-ad83-863754c82cab"
      },
      "execution_count": null,
      "outputs": [
        {
          "output_type": "stream",
          "name": "stdout",
          "text": [
            "Mounted at /content/drive\n"
          ]
        }
      ]
    },
    {
      "cell_type": "code",
      "source": [
        "!mkdir -p ~/.kaggle #membuat direktori kaggle\n",
        "!cp '/content/drive/MyDrive/kaggle.json' ~/.kaggle/ #menyalin file kaggle.json dari gdrive\n",
        "!chmod 600 ~/.kaggle/kaggle.json #memberikan izin file kepada pengguna agar dapat membaca dan menulis"
      ],
      "metadata": {
        "id": "Y58XW1bKSml-"
      },
      "execution_count": null,
      "outputs": []
    },
    {
      "cell_type": "code",
      "source": [
        "!kaggle datasets download -d team-ai/spam-text-message-classification #upload data dari kaglle"
      ],
      "metadata": {
        "id": "69YN-3m-Sp5X",
        "colab": {
          "base_uri": "https://localhost:8080/"
        },
        "outputId": "477ffa7f-fea1-40ab-bafd-1886a15ff22e"
      },
      "execution_count": null,
      "outputs": [
        {
          "output_type": "stream",
          "name": "stdout",
          "text": [
            "Dataset URL: https://www.kaggle.com/datasets/team-ai/spam-text-message-classification\n",
            "License(s): CC0-1.0\n",
            "Downloading spam-text-message-classification.zip to /content\n",
            "  0% 0.00/208k [00:00<?, ?B/s]\n",
            "100% 208k/208k [00:00<00:00, 126MB/s]\n"
          ]
        }
      ]
    },
    {
      "cell_type": "code",
      "source": [
        "!unzip spam-text-message-classification.zip #ekstrak dataset"
      ],
      "metadata": {
        "id": "e1xTN4R6Srzw",
        "colab": {
          "base_uri": "https://localhost:8080/"
        },
        "outputId": "ded870c7-2d63-4dd2-8283-61938e3633b2"
      },
      "execution_count": null,
      "outputs": [
        {
          "output_type": "stream",
          "name": "stdout",
          "text": [
            "Archive:  spam-text-message-classification.zip\n",
            "  inflating: SPAM text message 20170820 - Data.csv  \n"
          ]
        }
      ]
    },
    {
      "cell_type": "markdown",
      "source": [
        "##Eksplorasi dan Preprocessing Data"
      ],
      "metadata": {
        "id": "_6iCIYUDVilw"
      }
    },
    {
      "cell_type": "markdown",
      "source": [
        "###Eksplorasi Awal Dataset"
      ],
      "metadata": {
        "id": "leTQ5eKfSzkF"
      }
    },
    {
      "cell_type": "code",
      "source": [
        "data = pd.read_csv(\"SPAM text message 20170820 - Data.csv\")\n",
        "data.head()"
      ],
      "metadata": {
        "id": "K37-6olJStf5",
        "colab": {
          "base_uri": "https://localhost:8080/",
          "height": 206
        },
        "outputId": "4d983d68-cdaa-4aa0-c2d4-63ee5f6ffd05"
      },
      "execution_count": null,
      "outputs": [
        {
          "output_type": "execute_result",
          "data": {
            "text/plain": [
              "  Category                                            Message\n",
              "0      ham  Go until jurong point, crazy.. Available only ...\n",
              "1      ham                      Ok lar... Joking wif u oni...\n",
              "2     spam  Free entry in 2 a wkly comp to win FA Cup fina...\n",
              "3      ham  U dun say so early hor... U c already then say...\n",
              "4      ham  Nah I don't think he goes to usf, he lives aro..."
            ],
            "text/html": [
              "\n",
              "  <div id=\"df-fdfb459e-135f-4625-8420-62cb57be3bee\" class=\"colab-df-container\">\n",
              "    <div>\n",
              "<style scoped>\n",
              "    .dataframe tbody tr th:only-of-type {\n",
              "        vertical-align: middle;\n",
              "    }\n",
              "\n",
              "    .dataframe tbody tr th {\n",
              "        vertical-align: top;\n",
              "    }\n",
              "\n",
              "    .dataframe thead th {\n",
              "        text-align: right;\n",
              "    }\n",
              "</style>\n",
              "<table border=\"1\" class=\"dataframe\">\n",
              "  <thead>\n",
              "    <tr style=\"text-align: right;\">\n",
              "      <th></th>\n",
              "      <th>Category</th>\n",
              "      <th>Message</th>\n",
              "    </tr>\n",
              "  </thead>\n",
              "  <tbody>\n",
              "    <tr>\n",
              "      <th>0</th>\n",
              "      <td>ham</td>\n",
              "      <td>Go until jurong point, crazy.. Available only ...</td>\n",
              "    </tr>\n",
              "    <tr>\n",
              "      <th>1</th>\n",
              "      <td>ham</td>\n",
              "      <td>Ok lar... Joking wif u oni...</td>\n",
              "    </tr>\n",
              "    <tr>\n",
              "      <th>2</th>\n",
              "      <td>spam</td>\n",
              "      <td>Free entry in 2 a wkly comp to win FA Cup fina...</td>\n",
              "    </tr>\n",
              "    <tr>\n",
              "      <th>3</th>\n",
              "      <td>ham</td>\n",
              "      <td>U dun say so early hor... U c already then say...</td>\n",
              "    </tr>\n",
              "    <tr>\n",
              "      <th>4</th>\n",
              "      <td>ham</td>\n",
              "      <td>Nah I don't think he goes to usf, he lives aro...</td>\n",
              "    </tr>\n",
              "  </tbody>\n",
              "</table>\n",
              "</div>\n",
              "    <div class=\"colab-df-buttons\">\n",
              "\n",
              "  <div class=\"colab-df-container\">\n",
              "    <button class=\"colab-df-convert\" onclick=\"convertToInteractive('df-fdfb459e-135f-4625-8420-62cb57be3bee')\"\n",
              "            title=\"Convert this dataframe to an interactive table.\"\n",
              "            style=\"display:none;\">\n",
              "\n",
              "  <svg xmlns=\"http://www.w3.org/2000/svg\" height=\"24px\" viewBox=\"0 -960 960 960\">\n",
              "    <path d=\"M120-120v-720h720v720H120Zm60-500h600v-160H180v160Zm220 220h160v-160H400v160Zm0 220h160v-160H400v160ZM180-400h160v-160H180v160Zm440 0h160v-160H620v160ZM180-180h160v-160H180v160Zm440 0h160v-160H620v160Z\"/>\n",
              "  </svg>\n",
              "    </button>\n",
              "\n",
              "  <style>\n",
              "    .colab-df-container {\n",
              "      display:flex;\n",
              "      gap: 12px;\n",
              "    }\n",
              "\n",
              "    .colab-df-convert {\n",
              "      background-color: #E8F0FE;\n",
              "      border: none;\n",
              "      border-radius: 50%;\n",
              "      cursor: pointer;\n",
              "      display: none;\n",
              "      fill: #1967D2;\n",
              "      height: 32px;\n",
              "      padding: 0 0 0 0;\n",
              "      width: 32px;\n",
              "    }\n",
              "\n",
              "    .colab-df-convert:hover {\n",
              "      background-color: #E2EBFA;\n",
              "      box-shadow: 0px 1px 2px rgba(60, 64, 67, 0.3), 0px 1px 3px 1px rgba(60, 64, 67, 0.15);\n",
              "      fill: #174EA6;\n",
              "    }\n",
              "\n",
              "    .colab-df-buttons div {\n",
              "      margin-bottom: 4px;\n",
              "    }\n",
              "\n",
              "    [theme=dark] .colab-df-convert {\n",
              "      background-color: #3B4455;\n",
              "      fill: #D2E3FC;\n",
              "    }\n",
              "\n",
              "    [theme=dark] .colab-df-convert:hover {\n",
              "      background-color: #434B5C;\n",
              "      box-shadow: 0px 1px 3px 1px rgba(0, 0, 0, 0.15);\n",
              "      filter: drop-shadow(0px 1px 2px rgba(0, 0, 0, 0.3));\n",
              "      fill: #FFFFFF;\n",
              "    }\n",
              "  </style>\n",
              "\n",
              "    <script>\n",
              "      const buttonEl =\n",
              "        document.querySelector('#df-fdfb459e-135f-4625-8420-62cb57be3bee button.colab-df-convert');\n",
              "      buttonEl.style.display =\n",
              "        google.colab.kernel.accessAllowed ? 'block' : 'none';\n",
              "\n",
              "      async function convertToInteractive(key) {\n",
              "        const element = document.querySelector('#df-fdfb459e-135f-4625-8420-62cb57be3bee');\n",
              "        const dataTable =\n",
              "          await google.colab.kernel.invokeFunction('convertToInteractive',\n",
              "                                                    [key], {});\n",
              "        if (!dataTable) return;\n",
              "\n",
              "        const docLinkHtml = 'Like what you see? Visit the ' +\n",
              "          '<a target=\"_blank\" href=https://colab.research.google.com/notebooks/data_table.ipynb>data table notebook</a>'\n",
              "          + ' to learn more about interactive tables.';\n",
              "        element.innerHTML = '';\n",
              "        dataTable['output_type'] = 'display_data';\n",
              "        await google.colab.output.renderOutput(dataTable, element);\n",
              "        const docLink = document.createElement('div');\n",
              "        docLink.innerHTML = docLinkHtml;\n",
              "        element.appendChild(docLink);\n",
              "      }\n",
              "    </script>\n",
              "  </div>\n",
              "\n",
              "\n",
              "<div id=\"df-b4ae072d-1bc3-440e-bda5-1111ba0aedc8\">\n",
              "  <button class=\"colab-df-quickchart\" onclick=\"quickchart('df-b4ae072d-1bc3-440e-bda5-1111ba0aedc8')\"\n",
              "            title=\"Suggest charts\"\n",
              "            style=\"display:none;\">\n",
              "\n",
              "<svg xmlns=\"http://www.w3.org/2000/svg\" height=\"24px\"viewBox=\"0 0 24 24\"\n",
              "     width=\"24px\">\n",
              "    <g>\n",
              "        <path d=\"M19 3H5c-1.1 0-2 .9-2 2v14c0 1.1.9 2 2 2h14c1.1 0 2-.9 2-2V5c0-1.1-.9-2-2-2zM9 17H7v-7h2v7zm4 0h-2V7h2v10zm4 0h-2v-4h2v4z\"/>\n",
              "    </g>\n",
              "</svg>\n",
              "  </button>\n",
              "\n",
              "<style>\n",
              "  .colab-df-quickchart {\n",
              "      --bg-color: #E8F0FE;\n",
              "      --fill-color: #1967D2;\n",
              "      --hover-bg-color: #E2EBFA;\n",
              "      --hover-fill-color: #174EA6;\n",
              "      --disabled-fill-color: #AAA;\n",
              "      --disabled-bg-color: #DDD;\n",
              "  }\n",
              "\n",
              "  [theme=dark] .colab-df-quickchart {\n",
              "      --bg-color: #3B4455;\n",
              "      --fill-color: #D2E3FC;\n",
              "      --hover-bg-color: #434B5C;\n",
              "      --hover-fill-color: #FFFFFF;\n",
              "      --disabled-bg-color: #3B4455;\n",
              "      --disabled-fill-color: #666;\n",
              "  }\n",
              "\n",
              "  .colab-df-quickchart {\n",
              "    background-color: var(--bg-color);\n",
              "    border: none;\n",
              "    border-radius: 50%;\n",
              "    cursor: pointer;\n",
              "    display: none;\n",
              "    fill: var(--fill-color);\n",
              "    height: 32px;\n",
              "    padding: 0;\n",
              "    width: 32px;\n",
              "  }\n",
              "\n",
              "  .colab-df-quickchart:hover {\n",
              "    background-color: var(--hover-bg-color);\n",
              "    box-shadow: 0 1px 2px rgba(60, 64, 67, 0.3), 0 1px 3px 1px rgba(60, 64, 67, 0.15);\n",
              "    fill: var(--button-hover-fill-color);\n",
              "  }\n",
              "\n",
              "  .colab-df-quickchart-complete:disabled,\n",
              "  .colab-df-quickchart-complete:disabled:hover {\n",
              "    background-color: var(--disabled-bg-color);\n",
              "    fill: var(--disabled-fill-color);\n",
              "    box-shadow: none;\n",
              "  }\n",
              "\n",
              "  .colab-df-spinner {\n",
              "    border: 2px solid var(--fill-color);\n",
              "    border-color: transparent;\n",
              "    border-bottom-color: var(--fill-color);\n",
              "    animation:\n",
              "      spin 1s steps(1) infinite;\n",
              "  }\n",
              "\n",
              "  @keyframes spin {\n",
              "    0% {\n",
              "      border-color: transparent;\n",
              "      border-bottom-color: var(--fill-color);\n",
              "      border-left-color: var(--fill-color);\n",
              "    }\n",
              "    20% {\n",
              "      border-color: transparent;\n",
              "      border-left-color: var(--fill-color);\n",
              "      border-top-color: var(--fill-color);\n",
              "    }\n",
              "    30% {\n",
              "      border-color: transparent;\n",
              "      border-left-color: var(--fill-color);\n",
              "      border-top-color: var(--fill-color);\n",
              "      border-right-color: var(--fill-color);\n",
              "    }\n",
              "    40% {\n",
              "      border-color: transparent;\n",
              "      border-right-color: var(--fill-color);\n",
              "      border-top-color: var(--fill-color);\n",
              "    }\n",
              "    60% {\n",
              "      border-color: transparent;\n",
              "      border-right-color: var(--fill-color);\n",
              "    }\n",
              "    80% {\n",
              "      border-color: transparent;\n",
              "      border-right-color: var(--fill-color);\n",
              "      border-bottom-color: var(--fill-color);\n",
              "    }\n",
              "    90% {\n",
              "      border-color: transparent;\n",
              "      border-bottom-color: var(--fill-color);\n",
              "    }\n",
              "  }\n",
              "</style>\n",
              "\n",
              "  <script>\n",
              "    async function quickchart(key) {\n",
              "      const quickchartButtonEl =\n",
              "        document.querySelector('#' + key + ' button');\n",
              "      quickchartButtonEl.disabled = true;  // To prevent multiple clicks.\n",
              "      quickchartButtonEl.classList.add('colab-df-spinner');\n",
              "      try {\n",
              "        const charts = await google.colab.kernel.invokeFunction(\n",
              "            'suggestCharts', [key], {});\n",
              "      } catch (error) {\n",
              "        console.error('Error during call to suggestCharts:', error);\n",
              "      }\n",
              "      quickchartButtonEl.classList.remove('colab-df-spinner');\n",
              "      quickchartButtonEl.classList.add('colab-df-quickchart-complete');\n",
              "    }\n",
              "    (() => {\n",
              "      let quickchartButtonEl =\n",
              "        document.querySelector('#df-b4ae072d-1bc3-440e-bda5-1111ba0aedc8 button');\n",
              "      quickchartButtonEl.style.display =\n",
              "        google.colab.kernel.accessAllowed ? 'block' : 'none';\n",
              "    })();\n",
              "  </script>\n",
              "</div>\n",
              "    </div>\n",
              "  </div>\n"
            ],
            "application/vnd.google.colaboratory.intrinsic+json": {
              "type": "dataframe",
              "variable_name": "data",
              "summary": "{\n  \"name\": \"data\",\n  \"rows\": 5572,\n  \"fields\": [\n    {\n      \"column\": \"Category\",\n      \"properties\": {\n        \"dtype\": \"category\",\n        \"num_unique_values\": 2,\n        \"samples\": [\n          \"spam\",\n          \"ham\"\n        ],\n        \"semantic_type\": \"\",\n        \"description\": \"\"\n      }\n    },\n    {\n      \"column\": \"Message\",\n      \"properties\": {\n        \"dtype\": \"string\",\n        \"num_unique_values\": 5157,\n        \"samples\": [\n          \"Also sir, i sent you an email about how to log into the usc payment portal. I.ll send you another message that should explain how things are back home. Have a great weekend.\",\n          \"Are you free now?can i call now?\"\n        ],\n        \"semantic_type\": \"\",\n        \"description\": \"\"\n      }\n    }\n  ]\n}"
            }
          },
          "metadata": {},
          "execution_count": 6
        }
      ]
    },
    {
      "cell_type": "code",
      "source": [
        "#Menampilkan Info  data\n",
        "data.info()"
      ],
      "metadata": {
        "id": "7F5f1ynQTaQH",
        "colab": {
          "base_uri": "https://localhost:8080/"
        },
        "outputId": "6b2dfc57-54a1-412c-a3af-3e9d1a4f24e7"
      },
      "execution_count": null,
      "outputs": [
        {
          "output_type": "stream",
          "name": "stdout",
          "text": [
            "<class 'pandas.core.frame.DataFrame'>\n",
            "RangeIndex: 5572 entries, 0 to 5571\n",
            "Data columns (total 2 columns):\n",
            " #   Column    Non-Null Count  Dtype \n",
            "---  ------    --------------  ----- \n",
            " 0   Category  5572 non-null   object\n",
            " 1   Message   5572 non-null   object\n",
            "dtypes: object(2)\n",
            "memory usage: 87.2+ KB\n"
          ]
        }
      ]
    },
    {
      "cell_type": "code",
      "source": [
        "data.columns"
      ],
      "metadata": {
        "id": "a5EAs75vTqmY",
        "colab": {
          "base_uri": "https://localhost:8080/"
        },
        "outputId": "f32329cd-6045-4b46-8472-5b1685a22577"
      },
      "execution_count": null,
      "outputs": [
        {
          "output_type": "execute_result",
          "data": {
            "text/plain": [
              "Index(['Category', 'Message'], dtype='object')"
            ]
          },
          "metadata": {},
          "execution_count": 8
        }
      ]
    },
    {
      "cell_type": "code",
      "source": [
        "# Menghitung jumlah setiap kategori dan mendapatkan nama kategorinya\n",
        "class_dis = data.Category.value_counts()\n",
        "class_names = class_dis.index\n",
        "\n",
        "# Membuat Pie Chart\n",
        "fig = px.pie(names=class_names, values=class_dis, title='Distribusi Kelas Pesan Spam')\n",
        "\n",
        "# Menampilkan plot\n",
        "fig.show()"
      ],
      "metadata": {
        "id": "wfb_293stuJ7",
        "colab": {
          "base_uri": "https://localhost:8080/",
          "height": 542
        },
        "outputId": "1475d93d-6a4a-42c5-c247-2cb3e87e057d"
      },
      "execution_count": null,
      "outputs": [
        {
          "output_type": "display_data",
          "data": {
            "text/html": [
              "<html>\n",
              "<head><meta charset=\"utf-8\" /></head>\n",
              "<body>\n",
              "    <div>            <script src=\"https://cdnjs.cloudflare.com/ajax/libs/mathjax/2.7.5/MathJax.js?config=TeX-AMS-MML_SVG\"></script><script type=\"text/javascript\">if (window.MathJax && window.MathJax.Hub && window.MathJax.Hub.Config) {window.MathJax.Hub.Config({SVG: {font: \"STIX-Web\"}});}</script>                <script type=\"text/javascript\">window.PlotlyConfig = {MathJaxConfig: 'local'};</script>\n",
              "        <script charset=\"utf-8\" src=\"https://cdn.plot.ly/plotly-2.24.1.min.js\"></script>                <div id=\"ce369b2c-b936-4387-82bc-defa0eb426cc\" class=\"plotly-graph-div\" style=\"height:525px; width:100%;\"></div>            <script type=\"text/javascript\">                                    window.PLOTLYENV=window.PLOTLYENV || {};                                    if (document.getElementById(\"ce369b2c-b936-4387-82bc-defa0eb426cc\")) {                    Plotly.newPlot(                        \"ce369b2c-b936-4387-82bc-defa0eb426cc\",                        [{\"domain\":{\"x\":[0.0,1.0],\"y\":[0.0,1.0]},\"hovertemplate\":\"label=%{label}\\u003cbr\\u003evalue=%{value}\\u003cextra\\u003e\\u003c\\u002fextra\\u003e\",\"labels\":[\"ham\",\"spam\"],\"legendgroup\":\"\",\"name\":\"\",\"showlegend\":true,\"values\":[4825,747],\"type\":\"pie\"}],                        {\"template\":{\"data\":{\"histogram2dcontour\":[{\"type\":\"histogram2dcontour\",\"colorbar\":{\"outlinewidth\":0,\"ticks\":\"\"},\"colorscale\":[[0.0,\"#0d0887\"],[0.1111111111111111,\"#46039f\"],[0.2222222222222222,\"#7201a8\"],[0.3333333333333333,\"#9c179e\"],[0.4444444444444444,\"#bd3786\"],[0.5555555555555556,\"#d8576b\"],[0.6666666666666666,\"#ed7953\"],[0.7777777777777778,\"#fb9f3a\"],[0.8888888888888888,\"#fdca26\"],[1.0,\"#f0f921\"]]}],\"choropleth\":[{\"type\":\"choropleth\",\"colorbar\":{\"outlinewidth\":0,\"ticks\":\"\"}}],\"histogram2d\":[{\"type\":\"histogram2d\",\"colorbar\":{\"outlinewidth\":0,\"ticks\":\"\"},\"colorscale\":[[0.0,\"#0d0887\"],[0.1111111111111111,\"#46039f\"],[0.2222222222222222,\"#7201a8\"],[0.3333333333333333,\"#9c179e\"],[0.4444444444444444,\"#bd3786\"],[0.5555555555555556,\"#d8576b\"],[0.6666666666666666,\"#ed7953\"],[0.7777777777777778,\"#fb9f3a\"],[0.8888888888888888,\"#fdca26\"],[1.0,\"#f0f921\"]]}],\"heatmap\":[{\"type\":\"heatmap\",\"colorbar\":{\"outlinewidth\":0,\"ticks\":\"\"},\"colorscale\":[[0.0,\"#0d0887\"],[0.1111111111111111,\"#46039f\"],[0.2222222222222222,\"#7201a8\"],[0.3333333333333333,\"#9c179e\"],[0.4444444444444444,\"#bd3786\"],[0.5555555555555556,\"#d8576b\"],[0.6666666666666666,\"#ed7953\"],[0.7777777777777778,\"#fb9f3a\"],[0.8888888888888888,\"#fdca26\"],[1.0,\"#f0f921\"]]}],\"heatmapgl\":[{\"type\":\"heatmapgl\",\"colorbar\":{\"outlinewidth\":0,\"ticks\":\"\"},\"colorscale\":[[0.0,\"#0d0887\"],[0.1111111111111111,\"#46039f\"],[0.2222222222222222,\"#7201a8\"],[0.3333333333333333,\"#9c179e\"],[0.4444444444444444,\"#bd3786\"],[0.5555555555555556,\"#d8576b\"],[0.6666666666666666,\"#ed7953\"],[0.7777777777777778,\"#fb9f3a\"],[0.8888888888888888,\"#fdca26\"],[1.0,\"#f0f921\"]]}],\"contourcarpet\":[{\"type\":\"contourcarpet\",\"colorbar\":{\"outlinewidth\":0,\"ticks\":\"\"}}],\"contour\":[{\"type\":\"contour\",\"colorbar\":{\"outlinewidth\":0,\"ticks\":\"\"},\"colorscale\":[[0.0,\"#0d0887\"],[0.1111111111111111,\"#46039f\"],[0.2222222222222222,\"#7201a8\"],[0.3333333333333333,\"#9c179e\"],[0.4444444444444444,\"#bd3786\"],[0.5555555555555556,\"#d8576b\"],[0.6666666666666666,\"#ed7953\"],[0.7777777777777778,\"#fb9f3a\"],[0.8888888888888888,\"#fdca26\"],[1.0,\"#f0f921\"]]}],\"surface\":[{\"type\":\"surface\",\"colorbar\":{\"outlinewidth\":0,\"ticks\":\"\"},\"colorscale\":[[0.0,\"#0d0887\"],[0.1111111111111111,\"#46039f\"],[0.2222222222222222,\"#7201a8\"],[0.3333333333333333,\"#9c179e\"],[0.4444444444444444,\"#bd3786\"],[0.5555555555555556,\"#d8576b\"],[0.6666666666666666,\"#ed7953\"],[0.7777777777777778,\"#fb9f3a\"],[0.8888888888888888,\"#fdca26\"],[1.0,\"#f0f921\"]]}],\"mesh3d\":[{\"type\":\"mesh3d\",\"colorbar\":{\"outlinewidth\":0,\"ticks\":\"\"}}],\"scatter\":[{\"fillpattern\":{\"fillmode\":\"overlay\",\"size\":10,\"solidity\":0.2},\"type\":\"scatter\"}],\"parcoords\":[{\"type\":\"parcoords\",\"line\":{\"colorbar\":{\"outlinewidth\":0,\"ticks\":\"\"}}}],\"scatterpolargl\":[{\"type\":\"scatterpolargl\",\"marker\":{\"colorbar\":{\"outlinewidth\":0,\"ticks\":\"\"}}}],\"bar\":[{\"error_x\":{\"color\":\"#2a3f5f\"},\"error_y\":{\"color\":\"#2a3f5f\"},\"marker\":{\"line\":{\"color\":\"#E5ECF6\",\"width\":0.5},\"pattern\":{\"fillmode\":\"overlay\",\"size\":10,\"solidity\":0.2}},\"type\":\"bar\"}],\"scattergeo\":[{\"type\":\"scattergeo\",\"marker\":{\"colorbar\":{\"outlinewidth\":0,\"ticks\":\"\"}}}],\"scatterpolar\":[{\"type\":\"scatterpolar\",\"marker\":{\"colorbar\":{\"outlinewidth\":0,\"ticks\":\"\"}}}],\"histogram\":[{\"marker\":{\"pattern\":{\"fillmode\":\"overlay\",\"size\":10,\"solidity\":0.2}},\"type\":\"histogram\"}],\"scattergl\":[{\"type\":\"scattergl\",\"marker\":{\"colorbar\":{\"outlinewidth\":0,\"ticks\":\"\"}}}],\"scatter3d\":[{\"type\":\"scatter3d\",\"line\":{\"colorbar\":{\"outlinewidth\":0,\"ticks\":\"\"}},\"marker\":{\"colorbar\":{\"outlinewidth\":0,\"ticks\":\"\"}}}],\"scattermapbox\":[{\"type\":\"scattermapbox\",\"marker\":{\"colorbar\":{\"outlinewidth\":0,\"ticks\":\"\"}}}],\"scatterternary\":[{\"type\":\"scatterternary\",\"marker\":{\"colorbar\":{\"outlinewidth\":0,\"ticks\":\"\"}}}],\"scattercarpet\":[{\"type\":\"scattercarpet\",\"marker\":{\"colorbar\":{\"outlinewidth\":0,\"ticks\":\"\"}}}],\"carpet\":[{\"aaxis\":{\"endlinecolor\":\"#2a3f5f\",\"gridcolor\":\"white\",\"linecolor\":\"white\",\"minorgridcolor\":\"white\",\"startlinecolor\":\"#2a3f5f\"},\"baxis\":{\"endlinecolor\":\"#2a3f5f\",\"gridcolor\":\"white\",\"linecolor\":\"white\",\"minorgridcolor\":\"white\",\"startlinecolor\":\"#2a3f5f\"},\"type\":\"carpet\"}],\"table\":[{\"cells\":{\"fill\":{\"color\":\"#EBF0F8\"},\"line\":{\"color\":\"white\"}},\"header\":{\"fill\":{\"color\":\"#C8D4E3\"},\"line\":{\"color\":\"white\"}},\"type\":\"table\"}],\"barpolar\":[{\"marker\":{\"line\":{\"color\":\"#E5ECF6\",\"width\":0.5},\"pattern\":{\"fillmode\":\"overlay\",\"size\":10,\"solidity\":0.2}},\"type\":\"barpolar\"}],\"pie\":[{\"automargin\":true,\"type\":\"pie\"}]},\"layout\":{\"autotypenumbers\":\"strict\",\"colorway\":[\"#636efa\",\"#EF553B\",\"#00cc96\",\"#ab63fa\",\"#FFA15A\",\"#19d3f3\",\"#FF6692\",\"#B6E880\",\"#FF97FF\",\"#FECB52\"],\"font\":{\"color\":\"#2a3f5f\"},\"hovermode\":\"closest\",\"hoverlabel\":{\"align\":\"left\"},\"paper_bgcolor\":\"white\",\"plot_bgcolor\":\"#E5ECF6\",\"polar\":{\"bgcolor\":\"#E5ECF6\",\"angularaxis\":{\"gridcolor\":\"white\",\"linecolor\":\"white\",\"ticks\":\"\"},\"radialaxis\":{\"gridcolor\":\"white\",\"linecolor\":\"white\",\"ticks\":\"\"}},\"ternary\":{\"bgcolor\":\"#E5ECF6\",\"aaxis\":{\"gridcolor\":\"white\",\"linecolor\":\"white\",\"ticks\":\"\"},\"baxis\":{\"gridcolor\":\"white\",\"linecolor\":\"white\",\"ticks\":\"\"},\"caxis\":{\"gridcolor\":\"white\",\"linecolor\":\"white\",\"ticks\":\"\"}},\"coloraxis\":{\"colorbar\":{\"outlinewidth\":0,\"ticks\":\"\"}},\"colorscale\":{\"sequential\":[[0.0,\"#0d0887\"],[0.1111111111111111,\"#46039f\"],[0.2222222222222222,\"#7201a8\"],[0.3333333333333333,\"#9c179e\"],[0.4444444444444444,\"#bd3786\"],[0.5555555555555556,\"#d8576b\"],[0.6666666666666666,\"#ed7953\"],[0.7777777777777778,\"#fb9f3a\"],[0.8888888888888888,\"#fdca26\"],[1.0,\"#f0f921\"]],\"sequentialminus\":[[0.0,\"#0d0887\"],[0.1111111111111111,\"#46039f\"],[0.2222222222222222,\"#7201a8\"],[0.3333333333333333,\"#9c179e\"],[0.4444444444444444,\"#bd3786\"],[0.5555555555555556,\"#d8576b\"],[0.6666666666666666,\"#ed7953\"],[0.7777777777777778,\"#fb9f3a\"],[0.8888888888888888,\"#fdca26\"],[1.0,\"#f0f921\"]],\"diverging\":[[0,\"#8e0152\"],[0.1,\"#c51b7d\"],[0.2,\"#de77ae\"],[0.3,\"#f1b6da\"],[0.4,\"#fde0ef\"],[0.5,\"#f7f7f7\"],[0.6,\"#e6f5d0\"],[0.7,\"#b8e186\"],[0.8,\"#7fbc41\"],[0.9,\"#4d9221\"],[1,\"#276419\"]]},\"xaxis\":{\"gridcolor\":\"white\",\"linecolor\":\"white\",\"ticks\":\"\",\"title\":{\"standoff\":15},\"zerolinecolor\":\"white\",\"automargin\":true,\"zerolinewidth\":2},\"yaxis\":{\"gridcolor\":\"white\",\"linecolor\":\"white\",\"ticks\":\"\",\"title\":{\"standoff\":15},\"zerolinecolor\":\"white\",\"automargin\":true,\"zerolinewidth\":2},\"scene\":{\"xaxis\":{\"backgroundcolor\":\"#E5ECF6\",\"gridcolor\":\"white\",\"linecolor\":\"white\",\"showbackground\":true,\"ticks\":\"\",\"zerolinecolor\":\"white\",\"gridwidth\":2},\"yaxis\":{\"backgroundcolor\":\"#E5ECF6\",\"gridcolor\":\"white\",\"linecolor\":\"white\",\"showbackground\":true,\"ticks\":\"\",\"zerolinecolor\":\"white\",\"gridwidth\":2},\"zaxis\":{\"backgroundcolor\":\"#E5ECF6\",\"gridcolor\":\"white\",\"linecolor\":\"white\",\"showbackground\":true,\"ticks\":\"\",\"zerolinecolor\":\"white\",\"gridwidth\":2}},\"shapedefaults\":{\"line\":{\"color\":\"#2a3f5f\"}},\"annotationdefaults\":{\"arrowcolor\":\"#2a3f5f\",\"arrowhead\":0,\"arrowwidth\":1},\"geo\":{\"bgcolor\":\"white\",\"landcolor\":\"#E5ECF6\",\"subunitcolor\":\"white\",\"showland\":true,\"showlakes\":true,\"lakecolor\":\"white\"},\"title\":{\"x\":0.05},\"mapbox\":{\"style\":\"light\"}}},\"legend\":{\"tracegroupgap\":0},\"title\":{\"text\":\"Distribusi Kelas Pesan Spam\"}},                        {\"responsive\": true}                    ).then(function(){\n",
              "                            \n",
              "var gd = document.getElementById('ce369b2c-b936-4387-82bc-defa0eb426cc');\n",
              "var x = new MutationObserver(function (mutations, observer) {{\n",
              "        var display = window.getComputedStyle(gd).display;\n",
              "        if (!display || display === 'none') {{\n",
              "            console.log([gd, 'removed!']);\n",
              "            Plotly.purge(gd);\n",
              "            observer.disconnect();\n",
              "        }}\n",
              "}});\n",
              "\n",
              "// Listen for the removal of the full notebook cells\n",
              "var notebookContainer = gd.closest('#notebook-container');\n",
              "if (notebookContainer) {{\n",
              "    x.observe(notebookContainer, {childList: true});\n",
              "}}\n",
              "\n",
              "// Listen for the clearing of the current output cell\n",
              "var outputEl = gd.closest('.output');\n",
              "if (outputEl) {{\n",
              "    x.observe(outputEl, {childList: true});\n",
              "}}\n",
              "\n",
              "                        })                };                            </script>        </div>\n",
              "</body>\n",
              "</html>"
            ]
          },
          "metadata": {}
        }
      ]
    },
    {
      "cell_type": "code",
      "source": [
        "# Data set size\n",
        "N_SAMPLES = len(data)\n",
        "\n",
        "print(f\"Total Number of Samples : {N_SAMPLES}\")"
      ],
      "metadata": {
        "id": "-qeSQdmvuTgz",
        "colab": {
          "base_uri": "https://localhost:8080/"
        },
        "outputId": "adf5c214-5606-4113-dee0-77c5e61a0584"
      },
      "execution_count": null,
      "outputs": [
        {
          "output_type": "stream",
          "name": "stdout",
          "text": [
            "Total Number of Samples : 5572\n"
          ]
        }
      ]
    },
    {
      "cell_type": "code",
      "source": [
        "data.isnull().sum() #Mengecek data yang kosong"
      ],
      "metadata": {
        "id": "YJ7StPnPpdU5",
        "colab": {
          "base_uri": "https://localhost:8080/"
        },
        "outputId": "557a4297-89b8-4065-b9f8-e8c2c90037ea"
      },
      "execution_count": null,
      "outputs": [
        {
          "output_type": "execute_result",
          "data": {
            "text/plain": [
              "Category    0\n",
              "Message     0\n",
              "dtype: int64"
            ]
          },
          "metadata": {},
          "execution_count": 11
        }
      ]
    },
    {
      "cell_type": "code",
      "source": [
        "data.duplicated().sum() #Mengecek data yang sama"
      ],
      "metadata": {
        "id": "zsY0V3r1piSQ",
        "colab": {
          "base_uri": "https://localhost:8080/"
        },
        "outputId": "75e0e2e8-d3de-4a96-a15b-128197728111"
      },
      "execution_count": null,
      "outputs": [
        {
          "output_type": "execute_result",
          "data": {
            "text/plain": [
              "415"
            ]
          },
          "metadata": {},
          "execution_count": 12
        }
      ]
    },
    {
      "cell_type": "code",
      "source": [
        "#Menghapus data duplikat\n",
        "delete_duplicates = data.drop_duplicates()\n",
        "df = delete_duplicates\n",
        "\n",
        "df.duplicated().sum()"
      ],
      "metadata": {
        "id": "5HYdj-ACpkdI",
        "colab": {
          "base_uri": "https://localhost:8080/"
        },
        "outputId": "fc476278-bec8-47f9-b958-570e520adf0f"
      },
      "execution_count": null,
      "outputs": [
        {
          "output_type": "execute_result",
          "data": {
            "text/plain": [
              "0"
            ]
          },
          "metadata": {},
          "execution_count": 13
        }
      ]
    },
    {
      "cell_type": "code",
      "source": [
        "#Mencari panjang maksimum dari data\n",
        "max_len = max([len(text) for text in data.Message])\n",
        "print(f\"Maximum Length Of Input Sequence(Chars) : {max_len}\")"
      ],
      "metadata": {
        "id": "F5nZANqPvWUS",
        "colab": {
          "base_uri": "https://localhost:8080/"
        },
        "outputId": "28de1b84-034a-49a7-80f0-f3023de3f536"
      },
      "execution_count": null,
      "outputs": [
        {
          "output_type": "stream",
          "name": "stdout",
          "text": [
            "Maximum Length Of Input Sequence(Chars) : 910\n"
          ]
        }
      ]
    },
    {
      "cell_type": "markdown",
      "source": [
        "###Pre-Processing Data"
      ],
      "metadata": {
        "id": "W_x0l3bxVRZe"
      }
    },
    {
      "cell_type": "code",
      "source": [
        "# mendefinisikan hyperparameters\n",
        "num_heads = 4\n",
        "embed_dim = 256\n",
        "ff_dim = 128\n",
        "vocab_size = 10000\n",
        "max_seq_len = 40"
      ],
      "metadata": {
        "id": "OGoUjJ7T1S20"
      },
      "execution_count": null,
      "outputs": []
    },
    {
      "cell_type": "code",
      "source": [
        "# Extract X and y from the data frame\n",
        "X = data['Message'].tolist()\n",
        "y = data['Category'].tolist()"
      ],
      "metadata": {
        "id": "X0n1cJc8v1VJ"
      },
      "execution_count": null,
      "outputs": []
    },
    {
      "cell_type": "code",
      "source": [
        "# Label Encoding untuk konversi label teks menjadi nilai numerik\n",
        "label_encoder = LabelEncoder()\n",
        "y = label_encoder.fit_transform(y)"
      ],
      "metadata": {
        "id": "LxjqqezcLy4y"
      },
      "execution_count": null,
      "outputs": []
    },
    {
      "cell_type": "code",
      "source": [
        "print(f'X[:5]: \\n{X[:5]}\\n')\n",
        "print(f'y[:5]: {y[:5]}\\n')\n",
        "print(f\"Label Mapping : {label_encoder.inverse_transform(y[:5])}\")"
      ],
      "metadata": {
        "id": "JyTfaEGCwBId",
        "colab": {
          "base_uri": "https://localhost:8080/"
        },
        "outputId": "83ea0747-9d34-4bc7-8154-03948fe41b35"
      },
      "execution_count": null,
      "outputs": [
        {
          "output_type": "stream",
          "name": "stdout",
          "text": [
            "X[:5]: \n",
            "['Go until jurong point, crazy.. Available only in bugis n great world la e buffet... Cine there got amore wat...', 'Ok lar... Joking wif u oni...', \"Free entry in 2 a wkly comp to win FA Cup final tkts 21st May 2005. Text FA to 87121 to receive entry question(std txt rate)T&C's apply 08452810075over18's\", 'U dun say so early hor... U c already then say...', \"Nah I don't think he goes to usf, he lives around here though\"]\n",
            "\n",
            "y[:5]: [0 0 1 0 0]\n",
            "\n",
            "Label Mapping : ['ham' 'ham' 'spam' 'ham' 'ham']\n"
          ]
        }
      ]
    },
    {
      "cell_type": "code",
      "source": [
        "# Compute class weights\n",
        "class_weights = class_weight.compute_class_weight(class_weight='balanced', classes=data.Category.unique(), y=label_encoder.inverse_transform(y))\n",
        "class_weights = {number: weight for number, weight in enumerate(class_weights)}\n",
        "# Show\n",
        "print(f\"Associated class weights: {class_weights}\")"
      ],
      "metadata": {
        "id": "VynVENP1xDPb",
        "colab": {
          "base_uri": "https://localhost:8080/"
        },
        "outputId": "8a793710-540b-494f-85f9-41fd16c5563a"
      },
      "execution_count": null,
      "outputs": [
        {
          "output_type": "stream",
          "name": "stdout",
          "text": [
            "Associated class weights: {0: 0.5774093264248704, 1: 3.7295850066934406}\n"
          ]
        }
      ]
    },
    {
      "cell_type": "code",
      "source": [
        "# Mendefinisikan fungsi untuk memproses teks\n",
        "def preprocess_text(text: str) -> str:\n",
        "    text = tf.strings.regex_replace(text, f\"[{string.punctuation}]\", \" \")\n",
        "    text = tf.strings.lower(text)\n",
        "    text = tf.strings.strip(text)\n",
        "    return text\n",
        "\n",
        "# Membuat lapisan TextVectorization\n",
        "text_vectorizer = layers.TextVectorization(\n",
        "    max_tokens=vocab_size,\n",
        "    output_sequence_length=max_seq_len,\n",
        "    standardize=preprocess_text,\n",
        "    output_mode='int'\n",
        ")\n",
        "\n",
        "# Menyesuaikan lapisan TextVectorization ke data\n",
        "text_vectorizer.adapt(X)"
      ],
      "metadata": {
        "id": "Af8k5ezGx6TQ"
      },
      "execution_count": null,
      "outputs": []
    },
    {
      "cell_type": "code",
      "source": [
        "for _ in range(5):\n",
        "    # Pilih teks secara acak\n",
        "    text_temp = X[np.random.randint(N_SAMPLES)]\n",
        "\n",
        "    # Vektorisasi teks\n",
        "    text_vec_temp = text_vectorizer(text_temp)\n",
        "\n",
        "    # Tampilkan hasil\n",
        "    print(f\"Teks Asli: {text_temp}\")\n",
        "    print(f\"Teks Vektorisasi: {text_vec_temp}\\n\")"
      ],
      "metadata": {
        "id": "h9HBZZ7R1hE-",
        "colab": {
          "base_uri": "https://localhost:8080/"
        },
        "outputId": "28de3a51-a06a-42c7-e090-af53ae6d7bd2"
      },
      "execution_count": null,
      "outputs": [
        {
          "output_type": "stream",
          "name": "stdout",
          "text": [
            "Teks Asli: FreeMsg: Fancy a flirt? Reply DATE now & join the UKs fastest growing mobile dating service. Msgs rcvd just 25p to optout txt stop to 83021. Reply DATE now!\n",
            "Teks Vektorisasi: [ 813  816    5 1421   98  590   23  478    6 2345 3811 3730  101  698\n",
            "  228  689 1222   41 1302    3 1766   77   90    3 8422   98  590   23\n",
            "    0    0    0    0    0    0    0    0    0    0    0    0]\n",
            "\n",
            "Teks Asli: Misplaced your number and was sending texts to your old number. Wondering why i've not heard from you this year. All the best in your mcat. Got this number from my atlanta friends\n",
            "Teks Vektorisasi: [6250   15  150    8   65  898  458    3   15  609  150 1093  170    2\n",
            "  153   29  916   52    4   43  268   55    6  280    9   15 3520   62\n",
            "   43  150   52   12 2227  251    0    0    0    0    0    0]\n",
            "\n",
            "Teks Asli: Havent planning to buy later. I check already lido only got 530 show in e afternoon. U finish work already?\n",
            "Teks Vektorisasi: [ 521 1227    3  205  108    2  334  159 2600   71   62 1902  500    9\n",
            "  152  464    7  315  147  159    0    0    0    0    0    0    0    0\n",
            "    0    0    0    0    0    0    0    0    0    0    0    0]\n",
            "\n",
            "Teks Asli: Smile in Pleasure Smile in Pain Smile when trouble pours like Rain Smile when sum1 Hurts U Smile becoz SOMEONE still Loves to see u Smiling!!\n",
            "Teks Vektorisasi: [ 291    9 1354  291    9  474  291   49 1199 3356   59 1123  291   49\n",
            " 2391 1258    7  291 2219  214   91 1246    3   89    7  603    0    0\n",
            "    0    0    0    0    0    0    0    0    0    0    0    0]\n",
            "\n",
            "Teks Asli: Shant disturb u anymore... Jia you...\n",
            "Teks Vektorisasi: [5340 1158    7 1294 3633    4    0    0    0    0    0    0    0    0\n",
            "    0    0    0    0    0    0    0    0    0    0    0    0    0    0\n",
            "    0    0    0    0    0    0    0    0    0    0    0    0]\n",
            "\n"
          ]
        }
      ]
    },
    {
      "cell_type": "code",
      "source": [
        "# lihat jumlah kata\n",
        "VOCAB = text_vectorizer.get_vocabulary()\n",
        "\n",
        "# Tokenisasi vocabulary\n",
        "print(f\"Vocabulary size: {len(VOCAB)}\")\n",
        "print(f\"Vocabulary: {VOCAB[150:200]}\")"
      ],
      "metadata": {
        "id": "8r8un-u92Ikt",
        "colab": {
          "base_uri": "https://localhost:8080/"
        },
        "outputId": "65d3ad5a-3762-4939-fa14-c9f932483d59"
      },
      "execution_count": null,
      "outputs": [
        {
          "output_type": "stream",
          "name": "stdout",
          "text": [
            "Vocabulary size: 8841\n",
            "Vocabulary: ['number', 'message', 'e', 've', 'tomorrow', 'say', 'won', 'right', 'prize', 'already', 'after', 'said', 'ask', 'doing', 'cash', 'amp', '3', 'yeah', 'really', 'im', 'why', 'b', 'life', 'them', 'meet', 'find', 'very', 'miss', 'morning', 'let', 'babe', 'last', 'would', 'win', 'thanks', 'cos', 'anything', 'uk', 'lol', 'also', 'care', 'every', 'sure', 'pick', 'com', '150p', 'sent', 'nokia', 'keep', 'urgent']\n"
          ]
        }
      ]
    },
    {
      "cell_type": "markdown",
      "source": [
        "##Pemodelan Tensorflow-Text (Transformer)"
      ],
      "metadata": {
        "id": "OuCfL7Zla0DW"
      }
    },
    {
      "cell_type": "markdown",
      "source": [
        "###Split data"
      ],
      "metadata": {
        "id": "IxjydPco3CRx"
      }
    },
    {
      "cell_type": "code",
      "source": [
        "# membagi data menjadi 80 persen  training dan 20 persen testing\n",
        "X_train, X_test, y_train, y_test = train_test_split(X, y, test_size=0.2, stratify=y, random_state=42, shuffle=True)\n",
        "\n",
        "# Memasukan textnya\n",
        "X_train = text_vectorizer(X_train)\n",
        "X_test = text_vectorizer(X_test)\n",
        "\n",
        "# One Hot Vectors\n",
        "Xoh_train = tf.one_hot(X_train, depth=10000)\n",
        "Xoh_test  = tf.one_hot(X_test, depth=10000)"
      ],
      "metadata": {
        "id": "O4_M26a92QKy"
      },
      "execution_count": null,
      "outputs": []
    },
    {
      "cell_type": "code",
      "source": [
        "class TokenAndPositionalEmbedding(layers.Layer):\n",
        "\n",
        "    def __init__(self, embedding_dims, vocab_size, seq_len, **kwargs):\n",
        "        super(TokenAndPositionalEmbedding, self).__init__(**kwargs)\n",
        "\n",
        "        # Initialize parameters\n",
        "        self.seq_len = seq_len\n",
        "        self.vocab_size = vocab_size\n",
        "        self.embedding_dims = embedding_dims\n",
        "        self.embed_scale = tf.math.sqrt(tf.cast(embedding_dims, tf.float32))\n",
        "\n",
        "        # Define layers\n",
        "        self.token_embedding = layers.Embedding(\n",
        "            input_dim=vocab_size,\n",
        "            output_dim=embedding_dims,\n",
        "            name=\"token_embedding\"\n",
        "        )\n",
        "\n",
        "        self.positional_embedding = layers.Embedding(\n",
        "            input_dim=seq_len,\n",
        "            output_dim=embedding_dims,\n",
        "            name=\"positional_embedding\"\n",
        "        )\n",
        "\n",
        "    def call(self, inputs):\n",
        "        seq_len = tf.shape(inputs)[1]\n",
        "\n",
        "        # Token Embedding\n",
        "        token_embedding = self.token_embedding(inputs)\n",
        "        token_embedding *= self.embed_scale\n",
        "\n",
        "        # Positional Embedding\n",
        "        positions = tf.range(start=0, limit=seq_len, delta=1)\n",
        "        positional_embedding = self.positional_embedding(positions)\n",
        "\n",
        "        # Add Token and Positional Embedding\n",
        "        embeddings = token_embedding + positional_embedding\n",
        "\n",
        "        return embeddings\n",
        "\n",
        "\n",
        "    def get_config(self):\n",
        "        config = super(TokenAndPositionalEmbedding, self).get_config()\n",
        "        config.update({\n",
        "            'embedding_dims': self.embedding_dims,\n",
        "            'vocab_size': self.vocab_size,\n",
        "            'seq_len': self.seq_len,\n",
        "        })\n",
        "        return config"
      ],
      "metadata": {
        "id": "cUDBanSr2arB"
      },
      "execution_count": null,
      "outputs": []
    },
    {
      "cell_type": "code",
      "source": [
        "# Let's look what the layer do.\n",
        "temp_embeds = TokenAndPositionalEmbedding(embed_dim, vocab_size, max_seq_len)(X_train[:1])\n",
        "temp_embeds"
      ],
      "metadata": {
        "id": "zBVvmWkO3UXy",
        "colab": {
          "base_uri": "https://localhost:8080/"
        },
        "outputId": "c8a2b42d-64a5-4a14-afd1-464b73b897dd"
      },
      "execution_count": null,
      "outputs": [
        {
          "output_type": "execute_result",
          "data": {
            "text/plain": [
              "<tf.Tensor: shape=(1, 40, 256), dtype=float32, numpy=\n",
              "array([[[ 0.42701313,  0.4213275 , -0.08589311, ..., -0.20346317,\n",
              "          0.34488827,  0.48532376],\n",
              "        [-0.71295494,  0.39563066,  0.71222806, ...,  0.1163729 ,\n",
              "         -0.01581598, -0.19061086],\n",
              "        [ 0.4161461 ,  0.6321135 ,  0.3369141 , ..., -0.2286785 ,\n",
              "          0.2183489 ,  0.72127527],\n",
              "        ...,\n",
              "        [-0.2658375 ,  0.22820011, -0.5251519 , ..., -0.72405213,\n",
              "          0.05362446,  0.6890844 ],\n",
              "        [-0.2669791 ,  0.24140956, -0.5198953 , ..., -0.667406  ,\n",
              "          0.10150231,  0.6745428 ],\n",
              "        [-0.20344603,  0.28531846, -0.51985806, ..., -0.68102324,\n",
              "          0.10407382,  0.7343206 ]]], dtype=float32)>"
            ]
          },
          "metadata": {},
          "execution_count": 25
        }
      ]
    },
    {
      "cell_type": "markdown",
      "source": [
        "###Transformer Layer"
      ],
      "metadata": {
        "id": "Edk7r5xg3al7"
      }
    },
    {
      "cell_type": "code",
      "source": [
        "# mengatur parameter\n",
        "learning_rate = 1e-3\n",
        "epochs = 100\n",
        "batch_size = 32\n",
        "\n",
        "# mendefinisikan callbacks pelatihan\n",
        "callbacks = [\n",
        "    keras.callbacks.EarlyStopping(patience=3, restore_best_weights=True),\n",
        "    keras.callbacks.ModelCheckpoint(\"SpamDetector.h5\", save_best_only=True)\n",
        "]"
      ],
      "metadata": {
        "id": "2DfQkAyNsoAy"
      },
      "execution_count": null,
      "outputs": []
    },
    {
      "cell_type": "code",
      "source": [
        "class TransformerLayer(layers.Layer):\n",
        "\n",
        "    def __init__(self, num_heads: int, dropout_rate: float, embedding_dims: int, ff_dim: int, **kwargs):\n",
        "        super(TransformerLayer, self).__init__(**kwargs)\n",
        "\n",
        "        # Initialize Parameters\n",
        "        self.num_heads = num_heads\n",
        "        self.dropout_rate = dropout_rate\n",
        "        self.embedding_dims = embedding_dims\n",
        "        self.ff_dim = ff_dim\n",
        "\n",
        "        # Initialize Layers\n",
        "        self.mha = layers.MultiHeadAttention(num_heads=num_heads, key_dim=embedding_dims, dropout=dropout_rate)\n",
        "        self.ln1 = layers.LayerNormalization(epsilon=1e-6)\n",
        "\n",
        "        self.ffn = keras.Sequential([\n",
        "            layers.Dense(ff_dim, activation='relu', kernel_initializer='he_normal'),\n",
        "            layers.Dense(embedding_dims)\n",
        "        ])\n",
        "        self.ln2 = layers.LayerNormalization(epsilon=1e-6)\n",
        "\n",
        "    def call(self, inputs):\n",
        "        \"\"\"Forward pass of the Transformer Layer.\n",
        "\n",
        "        Args:\n",
        "            inputs: Tensor with shape `(batch_size, seq_len, embedding_dims)` representing the input sequence.\n",
        "\n",
        "        Returns:\n",
        "            Tensor with shape `(batch_size, seq_len, embedding_dims)` representing the output sequence after applying the Transformer Layer.\n",
        "        \"\"\"\n",
        "\n",
        "        # Multi-Head Attention\n",
        "        attention = self.mha(inputs, inputs, inputs)\n",
        "\n",
        "        # Layer Normalization and Residual Connection\n",
        "        normalized1 = self.ln1(attention + inputs)\n",
        "\n",
        "        # Feedforward Network\n",
        "        ffn_out = self.ffn(normalized1)\n",
        "\n",
        "        # Layer Normalization and Residual Connection\n",
        "        normalized2 = self.ln2(ffn_out + normalized1)\n",
        "\n",
        "        return normalized2\n",
        "\n",
        "    def get_config(self):\n",
        "        \"\"\"Get the configuration of the Transformer Layer.\n",
        "\n",
        "        Returns:\n",
        "            Dictionary with the configuration of the layer.\n",
        "        \"\"\"\n",
        "        config = super(TransformerLayer, self).get_config()\n",
        "        config.update({\n",
        "            \"num_heads\": self.num_heads,\n",
        "            \"dropout_rate\": self.dropout_rate,\n",
        "            \"embedding_dims\": self.embedding_dims,\n",
        "            \"ff_dim\": self.ff_dim\n",
        "        })\n",
        "        return config"
      ],
      "metadata": {
        "id": "l0DQ0J2E3dK2"
      },
      "execution_count": null,
      "outputs": []
    },
    {
      "cell_type": "code",
      "source": [
        "# Transformer layers execution\n",
        "TransformerLayer(num_heads=num_heads, embedding_dims=embed_dim, ff_dim=ff_dim, dropout_rate=0.1)(temp_embeds)"
      ],
      "metadata": {
        "id": "W4Bt-r3g3h3k",
        "colab": {
          "base_uri": "https://localhost:8080/"
        },
        "outputId": "4439155e-207c-46c7-84be-97d5b605ca88"
      },
      "execution_count": null,
      "outputs": [
        {
          "output_type": "execute_result",
          "data": {
            "text/plain": [
              "<tf.Tensor: shape=(1, 40, 256), dtype=float32, numpy=\n",
              "array([[[ 1.5215577 ,  0.5836963 ,  0.69941616, ..., -0.02216428,\n",
              "          1.1481253 , -0.38346034],\n",
              "        [-0.88385886,  0.4789825 ,  1.2988936 , ...,  0.4527012 ,\n",
              "          0.5106449 , -0.9604075 ],\n",
              "        [ 1.1046493 ,  1.3250263 ,  1.2325991 , ..., -0.17123042,\n",
              "          0.07096004,  0.73494446],\n",
              "        ...,\n",
              "        [-0.80673724, -0.39087158,  0.0852903 , ..., -1.2774311 ,\n",
              "          0.02626222,  0.3712698 ],\n",
              "        [-0.7430371 , -0.42698485,  0.1014016 , ..., -1.2234442 ,\n",
              "          0.07875717,  0.29534978],\n",
              "        [-0.65858626, -0.28658515,  0.15879935, ..., -1.3105134 ,\n",
              "          0.16795118,  0.50800925]]], dtype=float32)>"
            ]
          },
          "metadata": {},
          "execution_count": 28
        }
      ]
    },
    {
      "cell_type": "markdown",
      "source": [
        "###Model"
      ],
      "metadata": {
        "id": "zvx8IJNB3nSg"
      }
    },
    {
      "cell_type": "code",
      "source": [
        "# Input layer\n",
        "InputLayer = layers.Input(shape=(max_seq_len,), name=\"InputLayer\")\n",
        "\n",
        "# Embedding Layer\n",
        "embeddings = TokenAndPositionalEmbedding(embed_dim, vocab_size, max_seq_len, name=\"EmbeddingLayer\")(InputLayer)\n",
        "\n",
        "# Transformer Layer\n",
        "encodings = TransformerLayer(num_heads=num_heads, embedding_dims=embed_dim, ff_dim=ff_dim, dropout_rate=0.1, name=\"TransformerLayer\")(embeddings)\n",
        "\n",
        "# Classifier\n",
        "gap = layers.GlobalAveragePooling1D(name=\"GlobalAveragePooling\")(encodings)\n",
        "drop = layers.Dropout(0.5, name=\"Dropout\")(gap)\n",
        "OutputLayer = layers.Dense(1, activation='sigmoid', name=\"OutputLayer\")(drop)\n",
        "\n",
        "# Model\n",
        "model = keras.Model(InputLayer, OutputLayer, name=\"TransformerNet\")\n",
        "\n",
        "# Model Architecture Summary\n",
        "model.summary()"
      ],
      "metadata": {
        "id": "4ebq2OOm3roC",
        "colab": {
          "base_uri": "https://localhost:8080/"
        },
        "outputId": "1b77ba65-50f2-45d9-f19c-749ca17cf234"
      },
      "execution_count": null,
      "outputs": [
        {
          "output_type": "stream",
          "name": "stdout",
          "text": [
            "Model: \"TransformerNet\"\n",
            "_________________________________________________________________\n",
            " Layer (type)                Output Shape              Param #   \n",
            "=================================================================\n",
            " InputLayer (InputLayer)     [(None, 40)]              0         \n",
            "                                                                 \n",
            " EmbeddingLayer (TokenAndPo  (None, 40, 256)           2570240   \n",
            " sitionalEmbedding)                                              \n",
            "                                                                 \n",
            " TransformerLayer (Transfor  (None, 40, 256)           1118848   \n",
            " merLayer)                                                       \n",
            "                                                                 \n",
            " GlobalAveragePooling (Glob  (None, 256)               0         \n",
            " alAveragePooling1D)                                             \n",
            "                                                                 \n",
            " Dropout (Dropout)           (None, 256)               0         \n",
            "                                                                 \n",
            " OutputLayer (Dense)         (None, 1)                 257       \n",
            "                                                                 \n",
            "=================================================================\n",
            "Total params: 3689345 (14.07 MB)\n",
            "Trainable params: 3689345 (14.07 MB)\n",
            "Non-trainable params: 0 (0.00 Byte)\n",
            "_________________________________________________________________\n"
          ]
        }
      ]
    },
    {
      "cell_type": "markdown",
      "source": [
        "##Pelatihan Model"
      ],
      "metadata": {
        "id": "xeC5LxQbe21z"
      }
    },
    {
      "cell_type": "code",
      "source": [
        "# Membuat Model Kompilasi\n",
        "model.compile(\n",
        "    loss='binary_crossentropy',\n",
        "    optimizer='adam',\n",
        "    metrics=[\n",
        "        keras.metrics.BinaryAccuracy(name='accuracy'),\n",
        "        keras.metrics.Precision(name='precision'),\n",
        "        keras.metrics.Recall(name='recall'),\n",
        "        keras.metrics.AUC(name='auc'),\n",
        "    ]\n",
        ")\n",
        "\n",
        "# Train Model\n",
        "history = model.fit(\n",
        "    X_train, y_train,\n",
        "    validation_split=0.1,\n",
        "    batch_size=batch_size,\n",
        "    epochs=epochs,\n",
        "    callbacks=callbacks,\n",
        "    class_weight=class_weights\n",
        ")"
      ],
      "metadata": {
        "id": "1LWpsTauxBA6",
        "colab": {
          "base_uri": "https://localhost:8080/"
        },
        "outputId": "4ec201d0-3bfd-48ea-dd06-36f0c95336df"
      },
      "execution_count": null,
      "outputs": [
        {
          "output_type": "stream",
          "name": "stdout",
          "text": [
            "Epoch 1/100\n",
            "126/126 [==============================] - 21s 102ms/step - loss: 0.2126 - accuracy: 0.9265 - precision: 0.6620 - recall: 0.9036 - auc: 0.9722 - val_loss: 0.1029 - val_accuracy: 0.9776 - val_precision: 0.8933 - val_recall: 0.9710 - val_auc: 0.9851\n",
            "Epoch 2/100\n",
            "126/126 [==============================] - 5s 35ms/step - loss: 0.0319 - accuracy: 0.9940 - precision: 0.9685 - recall: 0.9868 - auc: 0.9986 - val_loss: 0.0579 - val_accuracy: 0.9888 - val_precision: 0.9848 - val_recall: 0.9420 - val_auc: 0.9868\n",
            "Epoch 3/100\n",
            "126/126 [==============================] - 2s 20ms/step - loss: 0.0052 - accuracy: 0.9990 - precision: 0.9925 - recall: 1.0000 - auc: 1.0000 - val_loss: 0.0686 - val_accuracy: 0.9888 - val_precision: 0.9848 - val_recall: 0.9420 - val_auc: 0.9825\n",
            "Epoch 4/100\n",
            "126/126 [==============================] - 3s 25ms/step - loss: 0.0015 - accuracy: 0.9998 - precision: 0.9981 - recall: 1.0000 - auc: 0.9999 - val_loss: 0.0548 - val_accuracy: 0.9910 - val_precision: 0.9851 - val_recall: 0.9565 - val_auc: 0.9848\n",
            "Epoch 5/100\n",
            "126/126 [==============================] - 4s 35ms/step - loss: 2.0313e-04 - accuracy: 1.0000 - precision: 1.0000 - recall: 1.0000 - auc: 1.0000 - val_loss: 0.0652 - val_accuracy: 0.9910 - val_precision: 0.9851 - val_recall: 0.9565 - val_auc: 0.9835\n",
            "Epoch 6/100\n",
            "126/126 [==============================] - 2s 18ms/step - loss: 6.2049e-05 - accuracy: 1.0000 - precision: 1.0000 - recall: 1.0000 - auc: 1.0000 - val_loss: 0.0707 - val_accuracy: 0.9910 - val_precision: 0.9851 - val_recall: 0.9565 - val_auc: 0.9837\n",
            "Epoch 7/100\n",
            "126/126 [==============================] - 2s 14ms/step - loss: 3.1812e-05 - accuracy: 1.0000 - precision: 1.0000 - recall: 1.0000 - auc: 1.0000 - val_loss: 0.0759 - val_accuracy: 0.9910 - val_precision: 0.9851 - val_recall: 0.9565 - val_auc: 0.9837\n"
          ]
        }
      ]
    },
    {
      "cell_type": "markdown",
      "source": [
        "##Evaluasi Model"
      ],
      "metadata": {
        "id": "mWNwXgACe5Hi"
      }
    },
    {
      "cell_type": "code",
      "source": [
        "# Plot metrics\n",
        "fig, axes = plt.subplots(nrows=2, ncols=2, figsize=(15, 8))\n",
        "plt.subplots_adjust(hspace=0.5)\n",
        "\n",
        "axes[0, 0].plot(history.history['loss'], label='Training Loss')\n",
        "axes[0, 0].plot(history.history['val_loss'], label='Validation Loss')\n",
        "axes[0, 0].set_title('Loss', fontsize=14)\n",
        "axes[0, 0].set_xlabel('Epoch', fontsize=12)\n",
        "axes[0, 0].set_ylabel('Loss', fontsize=12)\n",
        "axes[0, 0].grid(True)\n",
        "axes[0, 0].legend(fontsize=10)\n",
        "\n",
        "axes[0, 1].plot(history.history['accuracy'], label='Training Accuracy')\n",
        "axes[0, 1].plot(history.history['val_accuracy'], label='Validation Accuracy')\n",
        "axes[0, 1].set_title('Accuracy', fontsize=14)\n",
        "axes[0, 1].set_xlabel('Epoch', fontsize=12)\n",
        "axes[0, 1].set_ylabel('Accuracy', fontsize=12)\n",
        "axes[0, 1].grid(True)\n",
        "axes[0, 1].legend(fontsize=10)\n",
        "\n",
        "axes[1, 0].plot(history.history['precision'], label='Training Precision')\n",
        "axes[1, 0].plot(history.history['val_precision'], label='Validation Precision')\n",
        "axes[1, 0].set_title('Precision', fontsize=14)\n",
        "axes[1, 0].set_xlabel('Epoch', fontsize=12)\n",
        "axes[1, 0].set_ylabel('Precision', fontsize=12)\n",
        "axes[1, 0].grid(True)\n",
        "axes[1, 0].legend(fontsize=10)\n",
        "\n",
        "axes[1, 1].plot(history.history['recall'], label='Training Recall')\n",
        "axes[1, 1].plot(history.history['val_recall'], label='Validation Recall')\n",
        "axes[1, 1].set_title('Recall', fontsize=14)\n",
        "axes[1, 1].set_xlabel('Epoch', fontsize=12)\n",
        "axes[1, 1].set_ylabel('Recall', fontsize=12)\n",
        "axes[1, 1].grid(True)\n",
        "axes[1, 1].legend(fontsize=10)\n",
        "\n",
        "fig.suptitle('Model Performance Metrics', fontsize=16, y=1.05)\n",
        "plt.show()"
      ],
      "metadata": {
        "id": "9twKoYeub7C6",
        "colab": {
          "base_uri": "https://localhost:8080/",
          "height": 836
        },
        "outputId": "8e602814-ab12-45d5-87bd-8f428518cdcc"
      },
      "execution_count": null,
      "outputs": [
        {
          "output_type": "display_data",
          "data": {
            "text/plain": [
              "<Figure size 1500x800 with 4 Axes>"
            ],
            "image/png": "[encoded data removed]"
          },
          "metadata": {}
        }
      ]
    },
    {
      "cell_type": "code",
      "source": [
        "# Evaluate model performance on test data\n",
        "loss, acc, precision, recall, auc = model.evaluate(X_test, y_test, verbose=0)\n",
        "\n",
        "# Show the model performance\n",
        "print('Test loss      :', loss)\n",
        "print('Test accuracy  :', acc*100)\n",
        "print('Test precision :', precision*100)\n",
        "print('Test recall    :', recall*100)\n",
        "print('Test AUC       :', auc*100)"
      ],
      "metadata": {
        "id": "gjqYagdffHKp",
        "colab": {
          "base_uri": "https://localhost:8080/"
        },
        "outputId": "b1f1089d-f534-49aa-d181-3c3d42738603"
      },
      "execution_count": null,
      "outputs": [
        {
          "output_type": "stream",
          "name": "stdout",
          "text": [
            "Test loss      : 0.05603860691189766\n",
            "Test accuracy  : 98.92376661300659\n",
            "Test precision : 98.58155846595764\n",
            "Test recall    : 93.28858852386475\n",
            "Test AUC       : 97.90910482406616\n"
          ]
        }
      ]
    },
    {
      "cell_type": "markdown",
      "source": [
        "##Analisis Hasil Prediksi"
      ],
      "metadata": {
        "id": "qRPE48eMkzvK"
      }
    },
    {
      "cell_type": "code",
      "source": [
        "def decode_tokens(tokens):\n",
        "    \"\"\"\n",
        "    This function takes in a list of tokenized integers and returns the corresponding text based on the provided vocabulary.\n",
        "\n",
        "    Args:\n",
        "    - tokens: A list of integers representing tokenized text.\n",
        "    - vocab: A list of words in the vocabulary corresponding to each integer index.\n",
        "\n",
        "    Returns:\n",
        "    - text: A string of decoded text.\n",
        "    \"\"\"\n",
        "    text = \" \".join(VOCAB[int(token)] for token in tokens).strip()\n",
        "    return text"
      ],
      "metadata": {
        "id": "P1yhCvGnlDWC"
      },
      "execution_count": null,
      "outputs": []
    },
    {
      "cell_type": "code",
      "source": [
        "for _ in range(10):\n",
        "    # Randomly select a text from the testing data.\n",
        "    index = np.random.randint(1,len(X_test))\n",
        "    tokens = X_test[index-1:index]\n",
        "    label = y_test[index]\n",
        "\n",
        "    # Feed the tokens to the model\n",
        "    print(f\"\\nModel Prediction\\n{'-'*100}\")\n",
        "    proba = 1 if model.predict(tokens, verbose=0)[0][0]>0.5 else 0\n",
        "    pred = label_encoder.inverse_transform([proba])\n",
        "    print(f\"Message: '{decode_tokens(tokens[0])}' | Prediction: {pred[0].title()} | True : {label_encoder.inverse_transform([label])[0].title()}\\n\")"
      ],
      "metadata": {
        "id": "r8ds3k4OlHEG",
        "colab": {
          "base_uri": "https://localhost:8080/"
        },
        "outputId": "06543b17-5f07-4426-c673-0f236a4f11de"
      },
      "execution_count": null,
      "outputs": [
        {
          "output_type": "stream",
          "name": "stdout",
          "text": [
            "\n",
            "Model Prediction\n",
            "----------------------------------------------------------------------------------------------------\n",
            "Message: 'todays voda numbers ending with 7634 are selected to receive a £350 reward if you have a match please call 08712300220 quoting claim code 7684 standard rates apply' | Prediction: Spam | True : Ham\n",
            "\n",
            "\n",
            "Model Prediction\n",
            "----------------------------------------------------------------------------------------------------\n",
            "Message: 'he neva grumble but i sad lor hee buy tmr lor aft lunch but we still meetin 4 lunch tmr a not neva hear fr them lei Ü got a lot of work ar' | Prediction: Ham | True : Ham\n",
            "\n",
            "\n",
            "Model Prediction\n",
            "----------------------------------------------------------------------------------------------------\n",
            "Message: 'alright i have a new goal now' | Prediction: Ham | True : Ham\n",
            "\n",
            "\n",
            "Model Prediction\n",
            "----------------------------------------------------------------------------------------------------\n",
            "Message: 'like a personal sized or what' | Prediction: Ham | True : Ham\n",
            "\n",
            "\n",
            "Model Prediction\n",
            "----------------------------------------------------------------------------------------------------\n",
            "Message: 'so its to be poking man everyday that they teach you in canada abi how are you just saying hi' | Prediction: Ham | True : Ham\n",
            "\n",
            "\n",
            "Model Prediction\n",
            "----------------------------------------------------------------------------------------------------\n",
            "Message: 'fyi i m gonna call you sporadically starting at like lt gt bc we are not not doin this shit' | Prediction: Ham | True : Spam\n",
            "\n",
            "\n",
            "Model Prediction\n",
            "----------------------------------------------------------------------------------------------------\n",
            "Message: 'i know you mood off today' | Prediction: Ham | True : Ham\n",
            "\n",
            "\n",
            "Model Prediction\n",
            "----------------------------------------------------------------------------------------------------\n",
            "Message: 'match started india lt gt for 2' | Prediction: Ham | True : Ham\n",
            "\n",
            "\n",
            "Model Prediction\n",
            "----------------------------------------------------------------------------------------------------\n",
            "Message: 'no to be nosy i guess idk am i over reacting if i m freaked' | Prediction: Ham | True : Ham\n",
            "\n",
            "\n",
            "Model Prediction\n",
            "----------------------------------------------------------------------------------------------------\n",
            "Message: 'i dont have i shall buy one dear' | Prediction: Ham | True : Ham\n",
            "\n"
          ]
        }
      ]
    },
    {
      "cell_type": "markdown",
      "source": [
        "##Optimasi Parameter (Mengubah Parameter)"
      ],
      "metadata": {
        "id": "4s5iDD6Vt9dm"
      }
    },
    {
      "cell_type": "code",
      "source": [
        "import pandas as pd\n",
        "import matplotlib.pyplot as plt\n",
        "import plotly.graph_objects as go\n",
        "from tensorflow import keras\n",
        "from keras.models import Sequential\n",
        "from tensorflow.keras.preprocessing.sequence import pad_sequences\n",
        "from tensorflow.keras.preprocessing.text import Tokenizer\n",
        "from keras.layers import Dense, BatchNormalization, Embedding, LSTM\n",
        "from keras.metrics import Accuracy\n",
        "from keras import utils\n",
        "from keras import callbacks\n",
        "from sklearn.model_selection import train_test_split\n",
        "from absl import logging\n",
        "logging.set_verbosity(logging.ERROR)  # ignore notification"
      ],
      "metadata": {
        "id": "zcUDhxsaos_Y"
      },
      "execution_count": null,
      "outputs": []
    },
    {
      "cell_type": "code",
      "source": [
        "# Loading data\n",
        "df = pd.read_csv('SPAM text message 20170820 - Data.csv')"
      ],
      "metadata": {
        "id": "CIijBf7mp2o9"
      },
      "execution_count": null,
      "outputs": []
    },
    {
      "cell_type": "code",
      "source": [
        "# Preprocessing data\n",
        "df.replace('ham', 0, inplace=True)\n",
        "df.replace('spam', 1, inplace=True)\n",
        "df['Category'] = df['Category'].astype('int8')"
      ],
      "metadata": {
        "id": "NSaZzobXp0ou"
      },
      "execution_count": null,
      "outputs": []
    },
    {
      "cell_type": "code",
      "source": [
        "texts = df['Message']\n",
        "labels = df['Category']"
      ],
      "metadata": {
        "id": "gfBqd6bKpzNF"
      },
      "execution_count": null,
      "outputs": []
    },
    {
      "cell_type": "code",
      "source": [
        "NUM_WORDS = 10000\n",
        "MAX_TEXT_LEN = 100"
      ],
      "metadata": {
        "id": "uyhLYA4so0R9"
      },
      "execution_count": null,
      "outputs": []
    },
    {
      "cell_type": "code",
      "source": [
        "# Tokenizer\n",
        "lstm_tokenizer = Tokenizer(num_words=NUM_WORDS)\n",
        "lstm_tokenizer.fit_on_texts(texts)  # training tokenizer"
      ],
      "metadata": {
        "id": "iP9CY4Wbo1VW"
      },
      "execution_count": null,
      "outputs": []
    },
    {
      "cell_type": "code",
      "source": [
        "# Get VOCAB from the tokenizer\n",
        "VOCAB = lstm_tokenizer.index_word"
      ],
      "metadata": {
        "id": "HWyTOBLzuQ85"
      },
      "execution_count": null,
      "outputs": []
    },
    {
      "cell_type": "code",
      "source": [
        "sequences = lstm_tokenizer.texts_to_sequences(texts)\n",
        "lstm_X = pad_sequences(sequences, maxlen=MAX_TEXT_LEN)  # Standardization of the number of elements in a vector\n",
        "lstm_y = labels.copy()"
      ],
      "metadata": {
        "id": "ndAcRaATo2xh"
      },
      "execution_count": null,
      "outputs": []
    },
    {
      "cell_type": "code",
      "source": [
        "# pembagian data test dan train\n",
        "lstm_X_train, lstm_X_test, lstm_y_train, lstm_y_test = train_test_split(lstm_X, lstm_y, test_size=0.2, shuffle=True, random_state=42)\n"
      ],
      "metadata": {
        "id": "ronWD0aSo4S0"
      },
      "execution_count": null,
      "outputs": []
    },
    {
      "cell_type": "code",
      "source": [
        "# Pembangunan Model\n",
        "lstm_model = Sequential()\n",
        "lstm_model.add(Embedding(NUM_WORDS, 64, input_length=MAX_TEXT_LEN))\n",
        "lstm_model.add(LSTM(64, return_sequences=True))\n",
        "lstm_model.add(LSTM(64))\n",
        "lstm_model.add(Dense(1, activation='sigmoid'))\n",
        "lstm_model.summary()"
      ],
      "metadata": {
        "colab": {
          "base_uri": "https://localhost:8080/"
        },
        "id": "B-zxNkguo5jd",
        "outputId": "101a713c-6727-4c98-c37e-3d8bb3af0b20"
      },
      "execution_count": null,
      "outputs": [
        {
          "output_type": "stream",
          "name": "stdout",
          "text": [
            "Model: \"sequential_2\"\n",
            "_________________________________________________________________\n",
            " Layer (type)                Output Shape              Param #   \n",
            "=================================================================\n",
            " embedding (Embedding)       (None, 100, 64)           640000    \n",
            "                                                                 \n",
            " lstm (LSTM)                 (None, 100, 64)           33024     \n",
            "                                                                 \n",
            " lstm_1 (LSTM)               (None, 64)                33024     \n",
            "                                                                 \n",
            " dense_4 (Dense)             (None, 1)                 65        \n",
            "                                                                 \n",
            "=================================================================\n",
            "Total params: 706113 (2.69 MB)\n",
            "Trainable params: 706113 (2.69 MB)\n",
            "Non-trainable params: 0 (0.00 Byte)\n",
            "_________________________________________________________________\n"
          ]
        }
      ]
    },
    {
      "cell_type": "code",
      "source": [
        "\n",
        "lstm_model.compile(metrics=['accuracy'], loss='binary_crossentropy', optimizer='adam')"
      ],
      "metadata": {
        "id": "Dqbq2Yzio8GG"
      },
      "execution_count": null,
      "outputs": []
    },
    {
      "cell_type": "code",
      "source": [
        "# melatih model\n",
        "lstm_history = lstm_model.fit(lstm_X_train, lstm_y_train, batch_size=64, epochs=10, validation_split=0.2)"
      ],
      "metadata": {
        "colab": {
          "base_uri": "https://localhost:8080/"
        },
        "id": "qoZs_katpAGe",
        "outputId": "9d8b7689-23f5-4488-dad8-95036ff5999d"
      },
      "execution_count": null,
      "outputs": [
        {
          "output_type": "stream",
          "name": "stdout",
          "text": [
            "Epoch 1/10\n",
            "56/56 [==============================] - 20s 238ms/step - loss: 0.2855 - accuracy: 0.9038 - val_loss: 0.1211 - val_accuracy: 0.9641\n",
            "Epoch 2/10\n",
            "56/56 [==============================] - 8s 145ms/step - loss: 0.0490 - accuracy: 0.9865 - val_loss: 0.0674 - val_accuracy: 0.9809\n",
            "Epoch 3/10\n",
            "56/56 [==============================] - 5s 92ms/step - loss: 0.0183 - accuracy: 0.9952 - val_loss: 0.0773 - val_accuracy: 0.9809\n",
            "Epoch 4/10\n",
            "56/56 [==============================] - 4s 73ms/step - loss: 0.0095 - accuracy: 0.9978 - val_loss: 0.0803 - val_accuracy: 0.9809\n",
            "Epoch 5/10\n",
            "56/56 [==============================] - 4s 68ms/step - loss: 0.0043 - accuracy: 0.9992 - val_loss: 0.0903 - val_accuracy: 0.9809\n",
            "Epoch 6/10\n",
            "56/56 [==============================] - 2s 36ms/step - loss: 0.0018 - accuracy: 0.9997 - val_loss: 0.0949 - val_accuracy: 0.9821\n",
            "Epoch 7/10\n",
            "56/56 [==============================] - 3s 47ms/step - loss: 0.0013 - accuracy: 0.9997 - val_loss: 0.1033 - val_accuracy: 0.9798\n",
            "Epoch 8/10\n",
            "56/56 [==============================] - 2s 28ms/step - loss: 0.0013 - accuracy: 0.9997 - val_loss: 0.0884 - val_accuracy: 0.9776\n",
            "Epoch 9/10\n",
            "56/56 [==============================] - 1s 24ms/step - loss: 7.4870e-04 - accuracy: 1.0000 - val_loss: 0.1239 - val_accuracy: 0.9787\n",
            "Epoch 10/10\n",
            "56/56 [==============================] - 1s 18ms/step - loss: 5.6988e-04 - accuracy: 0.9997 - val_loss: 0.0989 - val_accuracy: 0.9798\n"
          ]
        }
      ]
    },
    {
      "cell_type": "code",
      "source": [
        "# Visualisasi kan performa pembelajaran\n",
        "fig, axes = plt.subplots(nrows=1, ncols=2, figsize=(15, 4))\n",
        "plt.subplots_adjust(hspace=0.5)\n",
        "\n",
        "axes[0].plot(lstm_history.history['loss'], label='Training Loss')\n",
        "axes[0].plot(lstm_history.history['val_loss'], label='Validation Loss')\n",
        "axes[0].set_title('Loss', fontsize=14)\n",
        "axes[0].set_xlabel('Epoch', fontsize=12)\n",
        "axes[0].set_ylabel('Loss', fontsize=12)\n",
        "axes[0].grid(True)\n",
        "axes[0].legend(fontsize=10)\n",
        "\n",
        "axes[1].plot(lstm_history.history['accuracy'], label='Training Accuracy')\n",
        "axes[1].plot(lstm_history.history['val_accuracy'], label='Validation Accuracy')\n",
        "axes[1].set_title('Accuracy', fontsize=14)\n",
        "axes[1].set_xlabel('Epoch', fontsize=12)\n",
        "axes[1].set_ylabel('Accuracy', fontsize=12)\n",
        "axes[1].grid(True)\n",
        "axes[1].legend(fontsize=10)\n",
        "\n",
        "fig.suptitle('Model Performance Metrics', fontsize=16, y=1.05)\n",
        "plt.show()"
      ],
      "metadata": {
        "colab": {
          "base_uri": "https://localhost:8080/",
          "height": 460
        },
        "id": "oBsxlCfMpBNw",
        "outputId": "06bfaef3-012e-4939-e7ae-153cf18825dc"
      },
      "execution_count": null,
      "outputs": [
        {
          "output_type": "display_data",
          "data": {
            "text/plain": [
              "<Figure size 1500x400 with 2 Axes>"
            ],
            "image/png": "[encoded data removed]"
          },
          "metadata": {}
        }
      ]
    },
    {
      "cell_type": "code",
      "source": [
        "# Evaluate model performance on test data\n",
        "test_loss, test_accuracy = lstm_model.evaluate(lstm_X_test, lstm_y_test)\n",
        "print('Test loss      :', test_loss)\n",
        "print('Test accuracy  :', test_accuracy)\n",
        "loss, acc, precision, recall, auc = model.evaluate(X_test, y_test, verbose=0)\n"
      ],
      "metadata": {
        "colab": {
          "base_uri": "https://localhost:8080/"
        },
        "id": "hk4-uJmfr4De",
        "outputId": "c74c4bde-776e-4f9b-84c2-4f95ca7bc548"
      },
      "execution_count": null,
      "outputs": [
        {
          "output_type": "stream",
          "name": "stdout",
          "text": [
            "35/35 [==============================] - 0s 8ms/step - loss: 0.0714 - accuracy: 0.9821\n",
            "Test loss      : 0.0714031383395195\n",
            "Test accuracy  : 0.9820627570152283\n"
          ]
        }
      ]
    }
  ]
}