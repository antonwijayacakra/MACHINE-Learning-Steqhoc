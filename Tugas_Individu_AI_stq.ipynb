{
  "nbformat": 4,
  "nbformat_minor": 0,
  "metadata": {
    "colab": {
      "provenance": []
    },
    "kernelspec": {
      "name": "python3",
      "display_name": "Python 3"
    },
    "language_info": {
      "name": "python"
    }
  },
  "cells": [
    {
      "cell_type": "markdown",
      "source": [
        "Inisiasi File"
      ],
      "metadata": {
        "id": "nboi3p9GIcha"
      }
    },
    {
      "cell_type": "code",
      "execution_count": null,
      "metadata": {
        "colab": {
          "base_uri": "https://localhost:8080/"
        },
        "id": "wbjPrEG9H-rg",
        "outputId": "b529a584-b22d-4595-f3e6-4da8f0187b99"
      },
      "outputs": [
        {
          "output_type": "stream",
          "name": "stdout",
          "text": [
            "Requirement already satisfied: openpyxl in /usr/local/lib/python3.10/dist-packages (3.1.2)\n",
            "Requirement already satisfied: et-xmlfile in /usr/local/lib/python3.10/dist-packages (from openpyxl) (1.1.0)\n",
            "Requirement already satisfied: pandas in /usr/local/lib/python3.10/dist-packages (2.0.3)\n",
            "Requirement already satisfied: python-dateutil>=2.8.2 in /usr/local/lib/python3.10/dist-packages (from pandas) (2.8.2)\n",
            "Requirement already satisfied: pytz>=2020.1 in /usr/local/lib/python3.10/dist-packages (from pandas) (2023.4)\n",
            "Requirement already satisfied: tzdata>=2022.1 in /usr/local/lib/python3.10/dist-packages (from pandas) (2024.1)\n",
            "Requirement already satisfied: numpy>=1.21.0 in /usr/local/lib/python3.10/dist-packages (from pandas) (1.25.2)\n",
            "Requirement already satisfied: six>=1.5 in /usr/local/lib/python3.10/dist-packages (from python-dateutil>=2.8.2->pandas) (1.16.0)\n"
          ]
        }
      ],
      "source": [
        "import pandas as pd\n",
        "import numpy as np\n",
        "import matplotlib.pyplot as plt\n",
        "import seaborn as sns\n",
        "# Install openpyxl dan pandas\n",
        "!pip install openpyxl\n",
        "!pip install pandas\n",
        "# PURPOSE: to prevent any plot open in a new tab\n",
        "%matplotlib inline\n",
        "pd.pandas.set_option('display.max_column', None)"
      ]
    },
    {
      "cell_type": "code",
      "source": [
        "dataori= pd.read_excel('/content/mlbb_hero.xlsx', engine='openpyxl')\n",
        "print(dataori.shape)"
      ],
      "metadata": {
        "colab": {
          "base_uri": "https://localhost:8080/"
        },
        "id": "B33DIGclIkSO",
        "outputId": "ef9c5757-2fec-4452-cb2f-80568d15ea90"
      },
      "execution_count": null,
      "outputs": [
        {
          "output_type": "stream",
          "name": "stdout",
          "text": [
            "(103, 19)\n"
          ]
        }
      ]
    },
    {
      "cell_type": "markdown",
      "source": [
        "Print Data yang asli"
      ],
      "metadata": {
        "id": "9zwdbqweKYvk"
      }
    },
    {
      "cell_type": "code",
      "source": [
        "dataori.head()"
      ],
      "metadata": {
        "id": "vf5TV1taKIKA",
        "colab": {
          "base_uri": "https://localhost:8080/",
          "height": 226
        },
        "outputId": "6c28db38-4c54-486a-bc94-7ff837a92dbb"
      },
      "execution_count": null,
      "outputs": [
        {
          "output_type": "execute_result",
          "data": {
            "text/plain": [
              "  hero_name      role  defense_overall  offense_overall  skill_effect_overall  \\\n",
              "0   Terizla   fighter              7.0              8.0                   6.0   \n",
              "1    Martis   fighter              6.0              8.0                   5.0   \n",
              "2     Grock      tank              8.0              5.0                   6.0   \n",
              "3  Carmilla   support              5.0              5.0                   9.0   \n",
              "4   Irithel  marksman              5.0              5.0                   8.0   \n",
              "\n",
              "   difficulty_overall  movement_spd  magic_defense  mana  hp_regen  \\\n",
              "0                 6.0           255             10   430        54   \n",
              "1                 5.0           260             10     0        35   \n",
              "2                 4.0           260             10   430        42   \n",
              "3                 5.0           255             10   430        39   \n",
              "4                 7.0           260             10   438        35   \n",
              "\n",
              "   physical_atk  physical_defense    hp  attack_speed  mana_regen  win_rate  \\\n",
              "0           129                19  2728          0.80        21.0     47.00   \n",
              "1           128                25  2738          0.86         0.0     45.00   \n",
              "2           135                21  2819          0.81        12.0     47.69   \n",
              "3           126                25  2528          0.91        16.0     53.76   \n",
              "4           118                17  2540          0.82        15.0     51.52   \n",
              "\n",
              "   pick_rate  ban_rate  release_year  \n",
              "0       0.15      0.02          2019  \n",
              "1       0.15      0.02          2018  \n",
              "2       0.14      0.02          2017  \n",
              "3       0.08      0.02          2020  \n",
              "4       0.38      0.03          2017  "
            ],
            "text/html": [
              "\n",
              "  <div id=\"df-f21a6694-d540-41bf-b6a1-58d12ff8d632\" class=\"colab-df-container\">\n",
              "    <div>\n",
              "<style scoped>\n",
              "    .dataframe tbody tr th:only-of-type {\n",
              "        vertical-align: middle;\n",
              "    }\n",
              "\n",
              "    .dataframe tbody tr th {\n",
              "        vertical-align: top;\n",
              "    }\n",
              "\n",
              "    .dataframe thead th {\n",
              "        text-align: right;\n",
              "    }\n",
              "</style>\n",
              "<table border=\"1\" class=\"dataframe\">\n",
              "  <thead>\n",
              "    <tr style=\"text-align: right;\">\n",
              "      <th></th>\n",
              "      <th>hero_name</th>\n",
              "      <th>role</th>\n",
              "      <th>defense_overall</th>\n",
              "      <th>offense_overall</th>\n",
              "      <th>skill_effect_overall</th>\n",
              "      <th>difficulty_overall</th>\n",
              "      <th>movement_spd</th>\n",
              "      <th>magic_defense</th>\n",
              "      <th>mana</th>\n",
              "      <th>hp_regen</th>\n",
              "      <th>physical_atk</th>\n",
              "      <th>physical_defense</th>\n",
              "      <th>hp</th>\n",
              "      <th>attack_speed</th>\n",
              "      <th>mana_regen</th>\n",
              "      <th>win_rate</th>\n",
              "      <th>pick_rate</th>\n",
              "      <th>ban_rate</th>\n",
              "      <th>release_year</th>\n",
              "    </tr>\n",
              "  </thead>\n",
              "  <tbody>\n",
              "    <tr>\n",
              "      <th>0</th>\n",
              "      <td>Terizla</td>\n",
              "      <td>fighter</td>\n",
              "      <td>7.0</td>\n",
              "      <td>8.0</td>\n",
              "      <td>6.0</td>\n",
              "      <td>6.0</td>\n",
              "      <td>255</td>\n",
              "      <td>10</td>\n",
              "      <td>430</td>\n",
              "      <td>54</td>\n",
              "      <td>129</td>\n",
              "      <td>19</td>\n",
              "      <td>2728</td>\n",
              "      <td>0.80</td>\n",
              "      <td>21.0</td>\n",
              "      <td>47.00</td>\n",
              "      <td>0.15</td>\n",
              "      <td>0.02</td>\n",
              "      <td>2019</td>\n",
              "    </tr>\n",
              "    <tr>\n",
              "      <th>1</th>\n",
              "      <td>Martis</td>\n",
              "      <td>fighter</td>\n",
              "      <td>6.0</td>\n",
              "      <td>8.0</td>\n",
              "      <td>5.0</td>\n",
              "      <td>5.0</td>\n",
              "      <td>260</td>\n",
              "      <td>10</td>\n",
              "      <td>0</td>\n",
              "      <td>35</td>\n",
              "      <td>128</td>\n",
              "      <td>25</td>\n",
              "      <td>2738</td>\n",
              "      <td>0.86</td>\n",
              "      <td>0.0</td>\n",
              "      <td>45.00</td>\n",
              "      <td>0.15</td>\n",
              "      <td>0.02</td>\n",
              "      <td>2018</td>\n",
              "    </tr>\n",
              "    <tr>\n",
              "      <th>2</th>\n",
              "      <td>Grock</td>\n",
              "      <td>tank</td>\n",
              "      <td>8.0</td>\n",
              "      <td>5.0</td>\n",
              "      <td>6.0</td>\n",
              "      <td>4.0</td>\n",
              "      <td>260</td>\n",
              "      <td>10</td>\n",
              "      <td>430</td>\n",
              "      <td>42</td>\n",
              "      <td>135</td>\n",
              "      <td>21</td>\n",
              "      <td>2819</td>\n",
              "      <td>0.81</td>\n",
              "      <td>12.0</td>\n",
              "      <td>47.69</td>\n",
              "      <td>0.14</td>\n",
              "      <td>0.02</td>\n",
              "      <td>2017</td>\n",
              "    </tr>\n",
              "    <tr>\n",
              "      <th>3</th>\n",
              "      <td>Carmilla</td>\n",
              "      <td>support</td>\n",
              "      <td>5.0</td>\n",
              "      <td>5.0</td>\n",
              "      <td>9.0</td>\n",
              "      <td>5.0</td>\n",
              "      <td>255</td>\n",
              "      <td>10</td>\n",
              "      <td>430</td>\n",
              "      <td>39</td>\n",
              "      <td>126</td>\n",
              "      <td>25</td>\n",
              "      <td>2528</td>\n",
              "      <td>0.91</td>\n",
              "      <td>16.0</td>\n",
              "      <td>53.76</td>\n",
              "      <td>0.08</td>\n",
              "      <td>0.02</td>\n",
              "      <td>2020</td>\n",
              "    </tr>\n",
              "    <tr>\n",
              "      <th>4</th>\n",
              "      <td>Irithel</td>\n",
              "      <td>marksman</td>\n",
              "      <td>5.0</td>\n",
              "      <td>5.0</td>\n",
              "      <td>8.0</td>\n",
              "      <td>7.0</td>\n",
              "      <td>260</td>\n",
              "      <td>10</td>\n",
              "      <td>438</td>\n",
              "      <td>35</td>\n",
              "      <td>118</td>\n",
              "      <td>17</td>\n",
              "      <td>2540</td>\n",
              "      <td>0.82</td>\n",
              "      <td>15.0</td>\n",
              "      <td>51.52</td>\n",
              "      <td>0.38</td>\n",
              "      <td>0.03</td>\n",
              "      <td>2017</td>\n",
              "    </tr>\n",
              "  </tbody>\n",
              "</table>\n",
              "</div>\n",
              "    <div class=\"colab-df-buttons\">\n",
              "\n",
              "  <div class=\"colab-df-container\">\n",
              "    <button class=\"colab-df-convert\" onclick=\"convertToInteractive('df-f21a6694-d540-41bf-b6a1-58d12ff8d632')\"\n",
              "            title=\"Convert this dataframe to an interactive table.\"\n",
              "            style=\"display:none;\">\n",
              "\n",
              "  <svg xmlns=\"http://www.w3.org/2000/svg\" height=\"24px\" viewBox=\"0 -960 960 960\">\n",
              "    <path d=\"M120-120v-720h720v720H120Zm60-500h600v-160H180v160Zm220 220h160v-160H400v160Zm0 220h160v-160H400v160ZM180-400h160v-160H180v160Zm440 0h160v-160H620v160ZM180-180h160v-160H180v160Zm440 0h160v-160H620v160Z\"/>\n",
              "  </svg>\n",
              "    </button>\n",
              "\n",
              "  <style>\n",
              "    .colab-df-container {\n",
              "      display:flex;\n",
              "      gap: 12px;\n",
              "    }\n",
              "\n",
              "    .colab-df-convert {\n",
              "      background-color: #E8F0FE;\n",
              "      border: none;\n",
              "      border-radius: 50%;\n",
              "      cursor: pointer;\n",
              "      display: none;\n",
              "      fill: #1967D2;\n",
              "      height: 32px;\n",
              "      padding: 0 0 0 0;\n",
              "      width: 32px;\n",
              "    }\n",
              "\n",
              "    .colab-df-convert:hover {\n",
              "      background-color: #E2EBFA;\n",
              "      box-shadow: 0px 1px 2px rgba(60, 64, 67, 0.3), 0px 1px 3px 1px rgba(60, 64, 67, 0.15);\n",
              "      fill: #174EA6;\n",
              "    }\n",
              "\n",
              "    .colab-df-buttons div {\n",
              "      margin-bottom: 4px;\n",
              "    }\n",
              "\n",
              "    [theme=dark] .colab-df-convert {\n",
              "      background-color: #3B4455;\n",
              "      fill: #D2E3FC;\n",
              "    }\n",
              "\n",
              "    [theme=dark] .colab-df-convert:hover {\n",
              "      background-color: #434B5C;\n",
              "      box-shadow: 0px 1px 3px 1px rgba(0, 0, 0, 0.15);\n",
              "      filter: drop-shadow(0px 1px 2px rgba(0, 0, 0, 0.3));\n",
              "      fill: #FFFFFF;\n",
              "    }\n",
              "  </style>\n",
              "\n",
              "    <script>\n",
              "      const buttonEl =\n",
              "        document.querySelector('#df-f21a6694-d540-41bf-b6a1-58d12ff8d632 button.colab-df-convert');\n",
              "      buttonEl.style.display =\n",
              "        google.colab.kernel.accessAllowed ? 'block' : 'none';\n",
              "\n",
              "      async function convertToInteractive(key) {\n",
              "        const element = document.querySelector('#df-f21a6694-d540-41bf-b6a1-58d12ff8d632');\n",
              "        const dataTable =\n",
              "          await google.colab.kernel.invokeFunction('convertToInteractive',\n",
              "                                                    [key], {});\n",
              "        if (!dataTable) return;\n",
              "\n",
              "        const docLinkHtml = 'Like what you see? Visit the ' +\n",
              "          '<a target=\"_blank\" href=https://colab.research.google.com/notebooks/data_table.ipynb>data table notebook</a>'\n",
              "          + ' to learn more about interactive tables.';\n",
              "        element.innerHTML = '';\n",
              "        dataTable['output_type'] = 'display_data';\n",
              "        await google.colab.output.renderOutput(dataTable, element);\n",
              "        const docLink = document.createElement('div');\n",
              "        docLink.innerHTML = docLinkHtml;\n",
              "        element.appendChild(docLink);\n",
              "      }\n",
              "    </script>\n",
              "  </div>\n",
              "\n",
              "\n",
              "<div id=\"df-7a8043ac-e490-4936-9e5b-954c60d7dbd8\">\n",
              "  <button class=\"colab-df-quickchart\" onclick=\"quickchart('df-7a8043ac-e490-4936-9e5b-954c60d7dbd8')\"\n",
              "            title=\"Suggest charts\"\n",
              "            style=\"display:none;\">\n",
              "\n",
              "<svg xmlns=\"http://www.w3.org/2000/svg\" height=\"24px\"viewBox=\"0 0 24 24\"\n",
              "     width=\"24px\">\n",
              "    <g>\n",
              "        <path d=\"M19 3H5c-1.1 0-2 .9-2 2v14c0 1.1.9 2 2 2h14c1.1 0 2-.9 2-2V5c0-1.1-.9-2-2-2zM9 17H7v-7h2v7zm4 0h-2V7h2v10zm4 0h-2v-4h2v4z\"/>\n",
              "    </g>\n",
              "</svg>\n",
              "  </button>\n",
              "\n",
              "<style>\n",
              "  .colab-df-quickchart {\n",
              "      --bg-color: #E8F0FE;\n",
              "      --fill-color: #1967D2;\n",
              "      --hover-bg-color: #E2EBFA;\n",
              "      --hover-fill-color: #174EA6;\n",
              "      --disabled-fill-color: #AAA;\n",
              "      --disabled-bg-color: #DDD;\n",
              "  }\n",
              "\n",
              "  [theme=dark] .colab-df-quickchart {\n",
              "      --bg-color: #3B4455;\n",
              "      --fill-color: #D2E3FC;\n",
              "      --hover-bg-color: #434B5C;\n",
              "      --hover-fill-color: #FFFFFF;\n",
              "      --disabled-bg-color: #3B4455;\n",
              "      --disabled-fill-color: #666;\n",
              "  }\n",
              "\n",
              "  .colab-df-quickchart {\n",
              "    background-color: var(--bg-color);\n",
              "    border: none;\n",
              "    border-radius: 50%;\n",
              "    cursor: pointer;\n",
              "    display: none;\n",
              "    fill: var(--fill-color);\n",
              "    height: 32px;\n",
              "    padding: 0;\n",
              "    width: 32px;\n",
              "  }\n",
              "\n",
              "  .colab-df-quickchart:hover {\n",
              "    background-color: var(--hover-bg-color);\n",
              "    box-shadow: 0 1px 2px rgba(60, 64, 67, 0.3), 0 1px 3px 1px rgba(60, 64, 67, 0.15);\n",
              "    fill: var(--button-hover-fill-color);\n",
              "  }\n",
              "\n",
              "  .colab-df-quickchart-complete:disabled,\n",
              "  .colab-df-quickchart-complete:disabled:hover {\n",
              "    background-color: var(--disabled-bg-color);\n",
              "    fill: var(--disabled-fill-color);\n",
              "    box-shadow: none;\n",
              "  }\n",
              "\n",
              "  .colab-df-spinner {\n",
              "    border: 2px solid var(--fill-color);\n",
              "    border-color: transparent;\n",
              "    border-bottom-color: var(--fill-color);\n",
              "    animation:\n",
              "      spin 1s steps(1) infinite;\n",
              "  }\n",
              "\n",
              "  @keyframes spin {\n",
              "    0% {\n",
              "      border-color: transparent;\n",
              "      border-bottom-color: var(--fill-color);\n",
              "      border-left-color: var(--fill-color);\n",
              "    }\n",
              "    20% {\n",
              "      border-color: transparent;\n",
              "      border-left-color: var(--fill-color);\n",
              "      border-top-color: var(--fill-color);\n",
              "    }\n",
              "    30% {\n",
              "      border-color: transparent;\n",
              "      border-left-color: var(--fill-color);\n",
              "      border-top-color: var(--fill-color);\n",
              "      border-right-color: var(--fill-color);\n",
              "    }\n",
              "    40% {\n",
              "      border-color: transparent;\n",
              "      border-right-color: var(--fill-color);\n",
              "      border-top-color: var(--fill-color);\n",
              "    }\n",
              "    60% {\n",
              "      border-color: transparent;\n",
              "      border-right-color: var(--fill-color);\n",
              "    }\n",
              "    80% {\n",
              "      border-color: transparent;\n",
              "      border-right-color: var(--fill-color);\n",
              "      border-bottom-color: var(--fill-color);\n",
              "    }\n",
              "    90% {\n",
              "      border-color: transparent;\n",
              "      border-bottom-color: var(--fill-color);\n",
              "    }\n",
              "  }\n",
              "</style>\n",
              "\n",
              "  <script>\n",
              "    async function quickchart(key) {\n",
              "      const quickchartButtonEl =\n",
              "        document.querySelector('#' + key + ' button');\n",
              "      quickchartButtonEl.disabled = true;  // To prevent multiple clicks.\n",
              "      quickchartButtonEl.classList.add('colab-df-spinner');\n",
              "      try {\n",
              "        const charts = await google.colab.kernel.invokeFunction(\n",
              "            'suggestCharts', [key], {});\n",
              "      } catch (error) {\n",
              "        console.error('Error during call to suggestCharts:', error);\n",
              "      }\n",
              "      quickchartButtonEl.classList.remove('colab-df-spinner');\n",
              "      quickchartButtonEl.classList.add('colab-df-quickchart-complete');\n",
              "    }\n",
              "    (() => {\n",
              "      let quickchartButtonEl =\n",
              "        document.querySelector('#df-7a8043ac-e490-4936-9e5b-954c60d7dbd8 button');\n",
              "      quickchartButtonEl.style.display =\n",
              "        google.colab.kernel.accessAllowed ? 'block' : 'none';\n",
              "    })();\n",
              "  </script>\n",
              "</div>\n",
              "    </div>\n",
              "  </div>\n"
            ],
            "application/vnd.google.colaboratory.intrinsic+json": {
              "type": "dataframe",
              "variable_name": "dataori",
              "summary": "{\n  \"name\": \"dataori\",\n  \"rows\": 103,\n  \"fields\": [\n    {\n      \"column\": \"hero_name\",\n      \"properties\": {\n        \"dtype\": \"string\",\n        \"num_unique_values\": 103,\n        \"samples\": [\n          \"Cyclops\",\n          \"Tigreal\",\n          \"Yi Sun Shin\"\n        ],\n        \"semantic_type\": \"\",\n        \"description\": \"\"\n      }\n    },\n    {\n      \"column\": \"role\",\n      \"properties\": {\n        \"dtype\": \"category\",\n        \"num_unique_values\": 6,\n        \"samples\": [\n          \"fighter\",\n          \"tank\",\n          \"assassin\"\n        ],\n        \"semantic_type\": \"\",\n        \"description\": \"\"\n      }\n    },\n    {\n      \"column\": \"defense_overall\",\n      \"properties\": {\n        \"dtype\": \"number\",\n        \"std\": 1.6724438232418648,\n        \"min\": 2.0,\n        \"max\": 9.0,\n        \"num_unique_values\": 8,\n        \"samples\": [\n          6.0,\n          3.0,\n          7.0\n        ],\n        \"semantic_type\": \"\",\n        \"description\": \"\"\n      }\n    },\n    {\n      \"column\": \"offense_overall\",\n      \"properties\": {\n        \"dtype\": \"number\",\n        \"std\": 1.7718745189403167,\n        \"min\": 4.0,\n        \"max\": 10.0,\n        \"num_unique_values\": 7,\n        \"samples\": [\n          8.0,\n          5.0,\n          6.0\n        ],\n        \"semantic_type\": \"\",\n        \"description\": \"\"\n      }\n    },\n    {\n      \"column\": \"skill_effect_overall\",\n      \"properties\": {\n        \"dtype\": \"number\",\n        \"std\": 1.5388861456256446,\n        \"min\": 4.0,\n        \"max\": 9.0,\n        \"num_unique_values\": 6,\n        \"samples\": [\n          6.0,\n          5.0,\n          4.0\n        ],\n        \"semantic_type\": \"\",\n        \"description\": \"\"\n      }\n    },\n    {\n      \"column\": \"difficulty_overall\",\n      \"properties\": {\n        \"dtype\": \"number\",\n        \"std\": 1.6490598651920572,\n        \"min\": 3.0,\n        \"max\": 10.0,\n        \"num_unique_values\": 8,\n        \"samples\": [\n          5.0,\n          9.0,\n          6.0\n        ],\n        \"semantic_type\": \"\",\n        \"description\": \"\"\n      }\n    },\n    {\n      \"column\": \"movement_spd\",\n      \"properties\": {\n        \"dtype\": \"number\",\n        \"std\": 9,\n        \"min\": 230,\n        \"max\": 270,\n        \"num_unique_values\": 11,\n        \"samples\": [\n          265,\n          255,\n          252\n        ],\n        \"semantic_type\": \"\",\n        \"description\": \"\"\n      }\n    },\n    {\n      \"column\": \"magic_defense\",\n      \"properties\": {\n        \"dtype\": \"number\",\n        \"std\": 1,\n        \"min\": 0,\n        \"max\": 10,\n        \"num_unique_values\": 2,\n        \"samples\": [\n          0,\n          10\n        ],\n        \"semantic_type\": \"\",\n        \"description\": \"\"\n      }\n    },\n    {\n      \"column\": \"mana\",\n      \"properties\": {\n        \"dtype\": \"number\",\n        \"std\": 217,\n        \"min\": 0,\n        \"max\": 1150,\n        \"num_unique_values\": 41,\n        \"samples\": [\n          468,\n          420\n        ],\n        \"semantic_type\": \"\",\n        \"description\": \"\"\n      }\n    },\n    {\n      \"column\": \"hp_regen\",\n      \"properties\": {\n        \"dtype\": \"number\",\n        \"std\": 7,\n        \"min\": 19,\n        \"max\": 92,\n        \"num_unique_values\": 23,\n        \"samples\": [\n          19,\n          48\n        ],\n        \"semantic_type\": \"\",\n        \"description\": \"\"\n      }\n    },\n    {\n      \"column\": \"physical_atk\",\n      \"properties\": {\n        \"dtype\": \"number\",\n        \"std\": 8,\n        \"min\": 97,\n        \"max\": 140,\n        \"num_unique_values\": 29,\n        \"samples\": [\n          100,\n          105\n        ],\n        \"semantic_type\": \"\",\n        \"description\": \"\"\n      }\n    },\n    {\n      \"column\": \"physical_defense\",\n      \"properties\": {\n        \"dtype\": \"number\",\n        \"std\": 3,\n        \"min\": 2,\n        \"max\": 27,\n        \"num_unique_values\": 16,\n        \"samples\": [\n          19,\n          25\n        ],\n        \"semantic_type\": \"\",\n        \"description\": \"\"\n      }\n    },\n    {\n      \"column\": \"hp\",\n      \"properties\": {\n        \"dtype\": \"number\",\n        \"std\": 227,\n        \"min\": 1138,\n        \"max\": 3309,\n        \"num_unique_values\": 73,\n        \"samples\": [\n          2540,\n          2898\n        ],\n        \"semantic_type\": \"\",\n        \"description\": \"\"\n      }\n    },\n    {\n      \"column\": \"attack_speed\",\n      \"properties\": {\n        \"dtype\": \"number\",\n        \"std\": 0.04641476983199436,\n        \"min\": 0.73,\n        \"max\": 0.98,\n        \"num_unique_values\": 18,\n        \"samples\": [\n          0.8,\n          0.86\n        ],\n        \"semantic_type\": \"\",\n        \"description\": \"\"\n      }\n    },\n    {\n      \"column\": \"mana_regen\",\n      \"properties\": {\n        \"dtype\": \"number\",\n        \"std\": 8.655054236120781,\n        \"min\": 0.0,\n        \"max\": 50.0,\n        \"num_unique_values\": 16,\n        \"samples\": [\n          21.0,\n          0.0\n        ],\n        \"semantic_type\": \"\",\n        \"description\": \"\"\n      }\n    },\n    {\n      \"column\": \"win_rate\",\n      \"properties\": {\n        \"dtype\": \"number\",\n        \"std\": 2.341717382772846,\n        \"min\": 45.0,\n        \"max\": 56.49,\n        \"num_unique_values\": 99,\n        \"samples\": [\n          48.88,\n          49.13\n        ],\n        \"semantic_type\": \"\",\n        \"description\": \"\"\n      }\n    },\n    {\n      \"column\": \"pick_rate\",\n      \"properties\": {\n        \"dtype\": \"number\",\n        \"std\": 0.7941179749137381,\n        \"min\": 0.05,\n        \"max\": 3.71,\n        \"num_unique_values\": 80,\n        \"samples\": [\n          0.32,\n          0.15\n        ],\n        \"semantic_type\": \"\",\n        \"description\": \"\"\n      }\n    },\n    {\n      \"column\": \"ban_rate\",\n      \"properties\": {\n        \"dtype\": \"number\",\n        \"std\": 11.575989830172544,\n        \"min\": 0.02,\n        \"max\": 61.29,\n        \"num_unique_values\": 70,\n        \"samples\": [\n          0.4,\n          0.02\n        ],\n        \"semantic_type\": \"\",\n        \"description\": \"\"\n      }\n    },\n    {\n      \"column\": \"release_year\",\n      \"properties\": {\n        \"dtype\": \"number\",\n        \"std\": 1,\n        \"min\": 2016,\n        \"max\": 2021,\n        \"num_unique_values\": 6,\n        \"samples\": [\n          2019,\n          2018\n        ],\n        \"semantic_type\": \"\",\n        \"description\": \"\"\n      }\n    }\n  ]\n}"
            }
          },
          "metadata": {},
          "execution_count": 11
        }
      ]
    },
    {
      "cell_type": "markdown",
      "source": [
        "Mengecek Nilai Kosong"
      ],
      "metadata": {
        "id": "ns0M_9BQMHDh"
      }
    },
    {
      "cell_type": "code",
      "source": [
        "print(sorted(dataori.isna().sum()))"
      ],
      "metadata": {
        "colab": {
          "base_uri": "https://localhost:8080/"
        },
        "id": "i0FATmQyMGRM",
        "outputId": "1776a8c4-283c-41b0-d3de-d387c2cc3854"
      },
      "execution_count": null,
      "outputs": [
        {
          "output_type": "stream",
          "name": "stdout",
          "text": [
            "[0, 0, 0, 0, 0, 0, 0, 0, 0, 0, 0, 0, 0, 0, 0, 0, 0, 0, 0]\n"
          ]
        }
      ]
    },
    {
      "cell_type": "markdown",
      "source": [
        "Mengecek nilai statistik data"
      ],
      "metadata": {
        "id": "6iciUTJPMgN1"
      }
    },
    {
      "cell_type": "code",
      "source": [
        "dataori.describe()\n"
      ],
      "metadata": {
        "colab": {
          "base_uri": "https://localhost:8080/",
          "height": 320
        },
        "id": "TTvlhUCVMkSR",
        "outputId": "1898899b-492f-4bb5-db68-75b04b3abb5b"
      },
      "execution_count": null,
      "outputs": [
        {
          "output_type": "execute_result",
          "data": {
            "text/plain": [
              "       defense_overall  offense_overall  skill_effect_overall  \\\n",
              "count       103.000000       103.000000            103.000000   \n",
              "mean          5.786408         6.378641              6.456311   \n",
              "std           1.672444         1.771875              1.538886   \n",
              "min           2.000000         4.000000              4.000000   \n",
              "25%           4.500000         5.000000              5.000000   \n",
              "50%           6.000000         6.000000              6.000000   \n",
              "75%           7.000000         8.000000              8.000000   \n",
              "max           9.000000        10.000000              9.000000   \n",
              "\n",
              "       difficulty_overall  movement_spd  magic_defense         mana  \\\n",
              "count           103.00000    103.000000     103.000000   103.000000   \n",
              "mean              5.92233    251.048544       9.611650   358.844660   \n",
              "std               1.64906      9.261324       1.941462   217.446805   \n",
              "min               3.00000    230.000000       0.000000     0.000000   \n",
              "25%               5.00000    240.000000      10.000000   385.000000   \n",
              "50%               6.00000    250.000000      10.000000   438.000000   \n",
              "75%               7.00000    260.000000      10.000000   490.000000   \n",
              "max              10.00000    270.000000      10.000000  1150.000000   \n",
              "\n",
              "         hp_regen  physical_atk  physical_defense           hp  attack_speed  \\\n",
              "count  103.000000    103.000000        103.000000   103.000000    103.000000   \n",
              "mean    37.961165    117.504854         19.135922  2585.932039      0.836505   \n",
              "std      7.818934      8.451562          3.865505   227.274528      0.046415   \n",
              "min     19.000000     97.000000          2.000000  1138.000000      0.730000   \n",
              "25%     34.000000    112.000000         17.000000  2500.500000      0.800000   \n",
              "50%     36.000000    117.000000         19.000000  2578.000000      0.820000   \n",
              "75%     40.000000    123.000000         22.000000  2718.500000      0.860000   \n",
              "max     92.000000    140.000000         27.000000  3309.000000      0.980000   \n",
              "\n",
              "       mana_regen    win_rate   pick_rate    ban_rate  release_year  \n",
              "count  103.000000  103.000000  103.000000  103.000000    103.000000  \n",
              "mean    12.953398   50.183398    0.971068    4.461262   2017.660194  \n",
              "std      8.655054    2.341717    0.794118   11.575990      1.397150  \n",
              "min      0.000000   45.000000    0.050000    0.020000   2016.000000  \n",
              "25%      6.600000   48.500000    0.350000    0.080000   2016.000000  \n",
              "50%     15.000000   50.100000    0.750000    0.360000   2017.000000  \n",
              "75%     18.000000   51.745000    1.430000    2.280000   2019.000000  \n",
              "max     50.000000   56.490000    3.710000   61.290000   2021.000000  "
            ],
            "text/html": [
              "\n",
              "  <div id=\"df-88c98066-7f69-4e5c-9b26-688c2729f2a9\" class=\"colab-df-container\">\n",
              "    <div>\n",
              "<style scoped>\n",
              "    .dataframe tbody tr th:only-of-type {\n",
              "        vertical-align: middle;\n",
              "    }\n",
              "\n",
              "    .dataframe tbody tr th {\n",
              "        vertical-align: top;\n",
              "    }\n",
              "\n",
              "    .dataframe thead th {\n",
              "        text-align: right;\n",
              "    }\n",
              "</style>\n",
              "<table border=\"1\" class=\"dataframe\">\n",
              "  <thead>\n",
              "    <tr style=\"text-align: right;\">\n",
              "      <th></th>\n",
              "      <th>defense_overall</th>\n",
              "      <th>offense_overall</th>\n",
              "      <th>skill_effect_overall</th>\n",
              "      <th>difficulty_overall</th>\n",
              "      <th>movement_spd</th>\n",
              "      <th>magic_defense</th>\n",
              "      <th>mana</th>\n",
              "      <th>hp_regen</th>\n",
              "      <th>physical_atk</th>\n",
              "      <th>physical_defense</th>\n",
              "      <th>hp</th>\n",
              "      <th>attack_speed</th>\n",
              "      <th>mana_regen</th>\n",
              "      <th>win_rate</th>\n",
              "      <th>pick_rate</th>\n",
              "      <th>ban_rate</th>\n",
              "      <th>release_year</th>\n",
              "    </tr>\n",
              "  </thead>\n",
              "  <tbody>\n",
              "    <tr>\n",
              "      <th>count</th>\n",
              "      <td>103.000000</td>\n",
              "      <td>103.000000</td>\n",
              "      <td>103.000000</td>\n",
              "      <td>103.00000</td>\n",
              "      <td>103.000000</td>\n",
              "      <td>103.000000</td>\n",
              "      <td>103.000000</td>\n",
              "      <td>103.000000</td>\n",
              "      <td>103.000000</td>\n",
              "      <td>103.000000</td>\n",
              "      <td>103.000000</td>\n",
              "      <td>103.000000</td>\n",
              "      <td>103.000000</td>\n",
              "      <td>103.000000</td>\n",
              "      <td>103.000000</td>\n",
              "      <td>103.000000</td>\n",
              "      <td>103.000000</td>\n",
              "    </tr>\n",
              "    <tr>\n",
              "      <th>mean</th>\n",
              "      <td>5.786408</td>\n",
              "      <td>6.378641</td>\n",
              "      <td>6.456311</td>\n",
              "      <td>5.92233</td>\n",
              "      <td>251.048544</td>\n",
              "      <td>9.611650</td>\n",
              "      <td>358.844660</td>\n",
              "      <td>37.961165</td>\n",
              "      <td>117.504854</td>\n",
              "      <td>19.135922</td>\n",
              "      <td>2585.932039</td>\n",
              "      <td>0.836505</td>\n",
              "      <td>12.953398</td>\n",
              "      <td>50.183398</td>\n",
              "      <td>0.971068</td>\n",
              "      <td>4.461262</td>\n",
              "      <td>2017.660194</td>\n",
              "    </tr>\n",
              "    <tr>\n",
              "      <th>std</th>\n",
              "      <td>1.672444</td>\n",
              "      <td>1.771875</td>\n",
              "      <td>1.538886</td>\n",
              "      <td>1.64906</td>\n",
              "      <td>9.261324</td>\n",
              "      <td>1.941462</td>\n",
              "      <td>217.446805</td>\n",
              "      <td>7.818934</td>\n",
              "      <td>8.451562</td>\n",
              "      <td>3.865505</td>\n",
              "      <td>227.274528</td>\n",
              "      <td>0.046415</td>\n",
              "      <td>8.655054</td>\n",
              "      <td>2.341717</td>\n",
              "      <td>0.794118</td>\n",
              "      <td>11.575990</td>\n",
              "      <td>1.397150</td>\n",
              "    </tr>\n",
              "    <tr>\n",
              "      <th>min</th>\n",
              "      <td>2.000000</td>\n",
              "      <td>4.000000</td>\n",
              "      <td>4.000000</td>\n",
              "      <td>3.00000</td>\n",
              "      <td>230.000000</td>\n",
              "      <td>0.000000</td>\n",
              "      <td>0.000000</td>\n",
              "      <td>19.000000</td>\n",
              "      <td>97.000000</td>\n",
              "      <td>2.000000</td>\n",
              "      <td>1138.000000</td>\n",
              "      <td>0.730000</td>\n",
              "      <td>0.000000</td>\n",
              "      <td>45.000000</td>\n",
              "      <td>0.050000</td>\n",
              "      <td>0.020000</td>\n",
              "      <td>2016.000000</td>\n",
              "    </tr>\n",
              "    <tr>\n",
              "      <th>25%</th>\n",
              "      <td>4.500000</td>\n",
              "      <td>5.000000</td>\n",
              "      <td>5.000000</td>\n",
              "      <td>5.00000</td>\n",
              "      <td>240.000000</td>\n",
              "      <td>10.000000</td>\n",
              "      <td>385.000000</td>\n",
              "      <td>34.000000</td>\n",
              "      <td>112.000000</td>\n",
              "      <td>17.000000</td>\n",
              "      <td>2500.500000</td>\n",
              "      <td>0.800000</td>\n",
              "      <td>6.600000</td>\n",
              "      <td>48.500000</td>\n",
              "      <td>0.350000</td>\n",
              "      <td>0.080000</td>\n",
              "      <td>2016.000000</td>\n",
              "    </tr>\n",
              "    <tr>\n",
              "      <th>50%</th>\n",
              "      <td>6.000000</td>\n",
              "      <td>6.000000</td>\n",
              "      <td>6.000000</td>\n",
              "      <td>6.00000</td>\n",
              "      <td>250.000000</td>\n",
              "      <td>10.000000</td>\n",
              "      <td>438.000000</td>\n",
              "      <td>36.000000</td>\n",
              "      <td>117.000000</td>\n",
              "      <td>19.000000</td>\n",
              "      <td>2578.000000</td>\n",
              "      <td>0.820000</td>\n",
              "      <td>15.000000</td>\n",
              "      <td>50.100000</td>\n",
              "      <td>0.750000</td>\n",
              "      <td>0.360000</td>\n",
              "      <td>2017.000000</td>\n",
              "    </tr>\n",
              "    <tr>\n",
              "      <th>75%</th>\n",
              "      <td>7.000000</td>\n",
              "      <td>8.000000</td>\n",
              "      <td>8.000000</td>\n",
              "      <td>7.00000</td>\n",
              "      <td>260.000000</td>\n",
              "      <td>10.000000</td>\n",
              "      <td>490.000000</td>\n",
              "      <td>40.000000</td>\n",
              "      <td>123.000000</td>\n",
              "      <td>22.000000</td>\n",
              "      <td>2718.500000</td>\n",
              "      <td>0.860000</td>\n",
              "      <td>18.000000</td>\n",
              "      <td>51.745000</td>\n",
              "      <td>1.430000</td>\n",
              "      <td>2.280000</td>\n",
              "      <td>2019.000000</td>\n",
              "    </tr>\n",
              "    <tr>\n",
              "      <th>max</th>\n",
              "      <td>9.000000</td>\n",
              "      <td>10.000000</td>\n",
              "      <td>9.000000</td>\n",
              "      <td>10.00000</td>\n",
              "      <td>270.000000</td>\n",
              "      <td>10.000000</td>\n",
              "      <td>1150.000000</td>\n",
              "      <td>92.000000</td>\n",
              "      <td>140.000000</td>\n",
              "      <td>27.000000</td>\n",
              "      <td>3309.000000</td>\n",
              "      <td>0.980000</td>\n",
              "      <td>50.000000</td>\n",
              "      <td>56.490000</td>\n",
              "      <td>3.710000</td>\n",
              "      <td>61.290000</td>\n",
              "      <td>2021.000000</td>\n",
              "    </tr>\n",
              "  </tbody>\n",
              "</table>\n",
              "</div>\n",
              "    <div class=\"colab-df-buttons\">\n",
              "\n",
              "  <div class=\"colab-df-container\">\n",
              "    <button class=\"colab-df-convert\" onclick=\"convertToInteractive('df-88c98066-7f69-4e5c-9b26-688c2729f2a9')\"\n",
              "            title=\"Convert this dataframe to an interactive table.\"\n",
              "            style=\"display:none;\">\n",
              "\n",
              "  <svg xmlns=\"http://www.w3.org/2000/svg\" height=\"24px\" viewBox=\"0 -960 960 960\">\n",
              "    <path d=\"M120-120v-720h720v720H120Zm60-500h600v-160H180v160Zm220 220h160v-160H400v160Zm0 220h160v-160H400v160ZM180-400h160v-160H180v160Zm440 0h160v-160H620v160ZM180-180h160v-160H180v160Zm440 0h160v-160H620v160Z\"/>\n",
              "  </svg>\n",
              "    </button>\n",
              "\n",
              "  <style>\n",
              "    .colab-df-container {\n",
              "      display:flex;\n",
              "      gap: 12px;\n",
              "    }\n",
              "\n",
              "    .colab-df-convert {\n",
              "      background-color: #E8F0FE;\n",
              "      border: none;\n",
              "      border-radius: 50%;\n",
              "      cursor: pointer;\n",
              "      display: none;\n",
              "      fill: #1967D2;\n",
              "      height: 32px;\n",
              "      padding: 0 0 0 0;\n",
              "      width: 32px;\n",
              "    }\n",
              "\n",
              "    .colab-df-convert:hover {\n",
              "      background-color: #E2EBFA;\n",
              "      box-shadow: 0px 1px 2px rgba(60, 64, 67, 0.3), 0px 1px 3px 1px rgba(60, 64, 67, 0.15);\n",
              "      fill: #174EA6;\n",
              "    }\n",
              "\n",
              "    .colab-df-buttons div {\n",
              "      margin-bottom: 4px;\n",
              "    }\n",
              "\n",
              "    [theme=dark] .colab-df-convert {\n",
              "      background-color: #3B4455;\n",
              "      fill: #D2E3FC;\n",
              "    }\n",
              "\n",
              "    [theme=dark] .colab-df-convert:hover {\n",
              "      background-color: #434B5C;\n",
              "      box-shadow: 0px 1px 3px 1px rgba(0, 0, 0, 0.15);\n",
              "      filter: drop-shadow(0px 1px 2px rgba(0, 0, 0, 0.3));\n",
              "      fill: #FFFFFF;\n",
              "    }\n",
              "  </style>\n",
              "\n",
              "    <script>\n",
              "      const buttonEl =\n",
              "        document.querySelector('#df-88c98066-7f69-4e5c-9b26-688c2729f2a9 button.colab-df-convert');\n",
              "      buttonEl.style.display =\n",
              "        google.colab.kernel.accessAllowed ? 'block' : 'none';\n",
              "\n",
              "      async function convertToInteractive(key) {\n",
              "        const element = document.querySelector('#df-88c98066-7f69-4e5c-9b26-688c2729f2a9');\n",
              "        const dataTable =\n",
              "          await google.colab.kernel.invokeFunction('convertToInteractive',\n",
              "                                                    [key], {});\n",
              "        if (!dataTable) return;\n",
              "\n",
              "        const docLinkHtml = 'Like what you see? Visit the ' +\n",
              "          '<a target=\"_blank\" href=https://colab.research.google.com/notebooks/data_table.ipynb>data table notebook</a>'\n",
              "          + ' to learn more about interactive tables.';\n",
              "        element.innerHTML = '';\n",
              "        dataTable['output_type'] = 'display_data';\n",
              "        await google.colab.output.renderOutput(dataTable, element);\n",
              "        const docLink = document.createElement('div');\n",
              "        docLink.innerHTML = docLinkHtml;\n",
              "        element.appendChild(docLink);\n",
              "      }\n",
              "    </script>\n",
              "  </div>\n",
              "\n",
              "\n",
              "<div id=\"df-b507011e-548f-42e5-8c8b-c9da85096fcb\">\n",
              "  <button class=\"colab-df-quickchart\" onclick=\"quickchart('df-b507011e-548f-42e5-8c8b-c9da85096fcb')\"\n",
              "            title=\"Suggest charts\"\n",
              "            style=\"display:none;\">\n",
              "\n",
              "<svg xmlns=\"http://www.w3.org/2000/svg\" height=\"24px\"viewBox=\"0 0 24 24\"\n",
              "     width=\"24px\">\n",
              "    <g>\n",
              "        <path d=\"M19 3H5c-1.1 0-2 .9-2 2v14c0 1.1.9 2 2 2h14c1.1 0 2-.9 2-2V5c0-1.1-.9-2-2-2zM9 17H7v-7h2v7zm4 0h-2V7h2v10zm4 0h-2v-4h2v4z\"/>\n",
              "    </g>\n",
              "</svg>\n",
              "  </button>\n",
              "\n",
              "<style>\n",
              "  .colab-df-quickchart {\n",
              "      --bg-color: #E8F0FE;\n",
              "      --fill-color: #1967D2;\n",
              "      --hover-bg-color: #E2EBFA;\n",
              "      --hover-fill-color: #174EA6;\n",
              "      --disabled-fill-color: #AAA;\n",
              "      --disabled-bg-color: #DDD;\n",
              "  }\n",
              "\n",
              "  [theme=dark] .colab-df-quickchart {\n",
              "      --bg-color: #3B4455;\n",
              "      --fill-color: #D2E3FC;\n",
              "      --hover-bg-color: #434B5C;\n",
              "      --hover-fill-color: #FFFFFF;\n",
              "      --disabled-bg-color: #3B4455;\n",
              "      --disabled-fill-color: #666;\n",
              "  }\n",
              "\n",
              "  .colab-df-quickchart {\n",
              "    background-color: var(--bg-color);\n",
              "    border: none;\n",
              "    border-radius: 50%;\n",
              "    cursor: pointer;\n",
              "    display: none;\n",
              "    fill: var(--fill-color);\n",
              "    height: 32px;\n",
              "    padding: 0;\n",
              "    width: 32px;\n",
              "  }\n",
              "\n",
              "  .colab-df-quickchart:hover {\n",
              "    background-color: var(--hover-bg-color);\n",
              "    box-shadow: 0 1px 2px rgba(60, 64, 67, 0.3), 0 1px 3px 1px rgba(60, 64, 67, 0.15);\n",
              "    fill: var(--button-hover-fill-color);\n",
              "  }\n",
              "\n",
              "  .colab-df-quickchart-complete:disabled,\n",
              "  .colab-df-quickchart-complete:disabled:hover {\n",
              "    background-color: var(--disabled-bg-color);\n",
              "    fill: var(--disabled-fill-color);\n",
              "    box-shadow: none;\n",
              "  }\n",
              "\n",
              "  .colab-df-spinner {\n",
              "    border: 2px solid var(--fill-color);\n",
              "    border-color: transparent;\n",
              "    border-bottom-color: var(--fill-color);\n",
              "    animation:\n",
              "      spin 1s steps(1) infinite;\n",
              "  }\n",
              "\n",
              "  @keyframes spin {\n",
              "    0% {\n",
              "      border-color: transparent;\n",
              "      border-bottom-color: var(--fill-color);\n",
              "      border-left-color: var(--fill-color);\n",
              "    }\n",
              "    20% {\n",
              "      border-color: transparent;\n",
              "      border-left-color: var(--fill-color);\n",
              "      border-top-color: var(--fill-color);\n",
              "    }\n",
              "    30% {\n",
              "      border-color: transparent;\n",
              "      border-left-color: var(--fill-color);\n",
              "      border-top-color: var(--fill-color);\n",
              "      border-right-color: var(--fill-color);\n",
              "    }\n",
              "    40% {\n",
              "      border-color: transparent;\n",
              "      border-right-color: var(--fill-color);\n",
              "      border-top-color: var(--fill-color);\n",
              "    }\n",
              "    60% {\n",
              "      border-color: transparent;\n",
              "      border-right-color: var(--fill-color);\n",
              "    }\n",
              "    80% {\n",
              "      border-color: transparent;\n",
              "      border-right-color: var(--fill-color);\n",
              "      border-bottom-color: var(--fill-color);\n",
              "    }\n",
              "    90% {\n",
              "      border-color: transparent;\n",
              "      border-bottom-color: var(--fill-color);\n",
              "    }\n",
              "  }\n",
              "</style>\n",
              "\n",
              "  <script>\n",
              "    async function quickchart(key) {\n",
              "      const quickchartButtonEl =\n",
              "        document.querySelector('#' + key + ' button');\n",
              "      quickchartButtonEl.disabled = true;  // To prevent multiple clicks.\n",
              "      quickchartButtonEl.classList.add('colab-df-spinner');\n",
              "      try {\n",
              "        const charts = await google.colab.kernel.invokeFunction(\n",
              "            'suggestCharts', [key], {});\n",
              "      } catch (error) {\n",
              "        console.error('Error during call to suggestCharts:', error);\n",
              "      }\n",
              "      quickchartButtonEl.classList.remove('colab-df-spinner');\n",
              "      quickchartButtonEl.classList.add('colab-df-quickchart-complete');\n",
              "    }\n",
              "    (() => {\n",
              "      let quickchartButtonEl =\n",
              "        document.querySelector('#df-b507011e-548f-42e5-8c8b-c9da85096fcb button');\n",
              "      quickchartButtonEl.style.display =\n",
              "        google.colab.kernel.accessAllowed ? 'block' : 'none';\n",
              "    })();\n",
              "  </script>\n",
              "</div>\n",
              "    </div>\n",
              "  </div>\n"
            ],
            "application/vnd.google.colaboratory.intrinsic+json": {
              "type": "dataframe",
              "summary": "{\n  \"name\": \"dataori\",\n  \"rows\": 8,\n  \"fields\": [\n    {\n      \"column\": \"defense_overall\",\n      \"properties\": {\n        \"dtype\": \"number\",\n        \"std\": 34.68600845705094,\n        \"min\": 1.6724438232418648,\n        \"max\": 103.0,\n        \"num_unique_values\": 8,\n        \"samples\": [\n          5.786407766990291,\n          6.0,\n          103.0\n        ],\n        \"semantic_type\": \"\",\n        \"description\": \"\"\n      }\n    },\n    {\n      \"column\": \"offense_overall\",\n      \"properties\": {\n        \"dtype\": \"number\",\n        \"std\": 34.426744618037965,\n        \"min\": 1.7718745189403167,\n        \"max\": 103.0,\n        \"num_unique_values\": 8,\n        \"samples\": [\n          6.378640776699029,\n          6.0,\n          103.0\n        ],\n        \"semantic_type\": \"\",\n        \"description\": \"\"\n      }\n    },\n    {\n      \"column\": \"skill_effect_overall\",\n      \"properties\": {\n        \"dtype\": \"number\",\n        \"std\": 34.473797148341156,\n        \"min\": 1.5388861456256446,\n        \"max\": 103.0,\n        \"num_unique_values\": 8,\n        \"samples\": [\n          6.456310679611651,\n          6.0,\n          103.0\n        ],\n        \"semantic_type\": \"\",\n        \"description\": \"\"\n      }\n    },\n    {\n      \"column\": \"difficulty_overall\",\n      \"properties\": {\n        \"dtype\": \"number\",\n        \"std\": 34.55944378941549,\n        \"min\": 1.6490598651920572,\n        \"max\": 103.0,\n        \"num_unique_values\": 8,\n        \"samples\": [\n          5.922330097087379,\n          6.0,\n          103.0\n        ],\n        \"semantic_type\": \"\",\n        \"description\": \"\"\n      }\n    },\n    {\n      \"column\": \"movement_spd\",\n      \"properties\": {\n        \"dtype\": \"number\",\n        \"std\": 94.01675541932981,\n        \"min\": 9.261324430733858,\n        \"max\": 270.0,\n        \"num_unique_values\": 8,\n        \"samples\": [\n          251.04854368932038,\n          250.0,\n          103.0\n        ],\n        \"semantic_type\": \"\",\n        \"description\": \"\"\n      }\n    },\n    {\n      \"column\": \"magic_defense\",\n      \"properties\": {\n        \"dtype\": \"number\",\n        \"std\": 34.05734665312992,\n        \"min\": 0.0,\n        \"max\": 103.0,\n        \"num_unique_values\": 5,\n        \"samples\": [\n          9.611650485436893,\n          10.0,\n          1.9414620007023908\n        ],\n        \"semantic_type\": \"\",\n        \"description\": \"\"\n      }\n    },\n    {\n      \"column\": \"mana\",\n      \"properties\": {\n        \"dtype\": \"number\",\n        \"std\": 349.5060078616618,\n        \"min\": 0.0,\n        \"max\": 1150.0,\n        \"num_unique_values\": 8,\n        \"samples\": [\n          358.84466019417476,\n          438.0,\n          103.0\n        ],\n        \"semantic_type\": \"\",\n        \"description\": \"\"\n      }\n    },\n    {\n      \"column\": \"hp_regen\",\n      \"properties\": {\n        \"dtype\": \"number\",\n        \"std\": 33.58575497170244,\n        \"min\": 7.818934196083761,\n        \"max\": 103.0,\n        \"num_unique_values\": 8,\n        \"samples\": [\n          37.96116504854369,\n          36.0,\n          103.0\n        ],\n        \"semantic_type\": \"\",\n        \"description\": \"\"\n      }\n    },\n    {\n      \"column\": \"physical_atk\",\n      \"properties\": {\n        \"dtype\": \"number\",\n        \"std\": 40.048599659833286,\n        \"min\": 8.451561854042206,\n        \"max\": 140.0,\n        \"num_unique_values\": 8,\n        \"samples\": [\n          117.50485436893204,\n          117.0,\n          103.0\n        ],\n        \"semantic_type\": \"\",\n        \"description\": \"\"\n      }\n    },\n    {\n      \"column\": \"physical_defense\",\n      \"properties\": {\n        \"dtype\": \"number\",\n        \"std\": 32.039985398301425,\n        \"min\": 2.0,\n        \"max\": 103.0,\n        \"num_unique_values\": 8,\n        \"samples\": [\n          19.135922330097088,\n          19.0,\n          103.0\n        ],\n        \"semantic_type\": \"\",\n        \"description\": \"\"\n      }\n    },\n    {\n      \"column\": \"hp\",\n      \"properties\": {\n        \"dtype\": \"number\",\n        \"std\": 1227.8713187183905,\n        \"min\": 103.0,\n        \"max\": 3309.0,\n        \"num_unique_values\": 8,\n        \"samples\": [\n          2585.9320388349515,\n          2578.0,\n          103.0\n        ],\n        \"semantic_type\": \"\",\n        \"description\": \"\"\n      }\n    },\n    {\n      \"column\": \"attack_speed\",\n      \"properties\": {\n        \"dtype\": \"number\",\n        \"std\": 36.16090568593552,\n        \"min\": 0.04641476983199436,\n        \"max\": 103.0,\n        \"num_unique_values\": 8,\n        \"samples\": [\n          0.8365048543689318,\n          0.82,\n          103.0\n        ],\n        \"semantic_type\": \"\",\n        \"description\": \"\"\n      }\n    },\n    {\n      \"column\": \"mana_regen\",\n      \"properties\": {\n        \"dtype\": \"number\",\n        \"std\": 34.24408782297189,\n        \"min\": 0.0,\n        \"max\": 103.0,\n        \"num_unique_values\": 8,\n        \"samples\": [\n          12.953398058252427,\n          15.0,\n          103.0\n        ],\n        \"semantic_type\": \"\",\n        \"description\": \"\"\n      }\n    },\n    {\n      \"column\": \"win_rate\",\n      \"properties\": {\n        \"dtype\": \"number\",\n        \"std\": 27.113516000743754,\n        \"min\": 2.341717382772846,\n        \"max\": 103.0,\n        \"num_unique_values\": 8,\n        \"samples\": [\n          50.18339805825243,\n          50.1,\n          103.0\n        ],\n        \"semantic_type\": \"\",\n        \"description\": \"\"\n      }\n    },\n    {\n      \"column\": \"pick_rate\",\n      \"properties\": {\n        \"dtype\": \"number\",\n        \"std\": 36.02660387216082,\n        \"min\": 0.05,\n        \"max\": 103.0,\n        \"num_unique_values\": 8,\n        \"samples\": [\n          0.9710679611650485,\n          0.75,\n          103.0\n        ],\n        \"semantic_type\": \"\",\n        \"description\": \"\"\n      }\n    },\n    {\n      \"column\": \"ban_rate\",\n      \"properties\": {\n        \"dtype\": \"number\",\n        \"std\": 38.4252576115381,\n        \"min\": 0.02,\n        \"max\": 103.0,\n        \"num_unique_values\": 8,\n        \"samples\": [\n          4.46126213592233,\n          0.36,\n          103.0\n        ],\n        \"semantic_type\": \"\",\n        \"description\": \"\"\n      }\n    },\n    {\n      \"column\": \"release_year\",\n      \"properties\": {\n        \"dtype\": \"number\",\n        \"std\": 910.2924513677244,\n        \"min\": 1.397149746056918,\n        \"max\": 2021.0,\n        \"num_unique_values\": 7,\n        \"samples\": [\n          103.0,\n          2017.6601941747572,\n          2019.0\n        ],\n        \"semantic_type\": \"\",\n        \"description\": \"\"\n      }\n    }\n  ]\n}"
            }
          },
          "metadata": {},
          "execution_count": 21
        }
      ]
    },
    {
      "cell_type": "code",
      "source": [
        "nama_kolom = 'release_year'\n",
        "databaru = dataori.drop(columns=[nama_kolom])\n",
        "print(databaru)"
      ],
      "metadata": {
        "colab": {
          "base_uri": "https://localhost:8080/"
        },
        "id": "v5xamllrPY8k",
        "outputId": "644a16e6-0b05-4a01-861a-2937005edc82"
      },
      "execution_count": null,
      "outputs": [
        {
          "output_type": "stream",
          "name": "stdout",
          "text": [
            "     hero_name      role  defense_overall  offense_overall  \\\n",
            "0      Terizla   fighter              7.0              8.0   \n",
            "1       Martis   fighter              6.0              8.0   \n",
            "2        Grock      tank              8.0              5.0   \n",
            "3     Carmilla   support              5.0              5.0   \n",
            "4      Irithel  marksman              5.0              5.0   \n",
            "..         ...       ...              ...              ...   \n",
            "98   Esmeralda      mage              7.0              6.0   \n",
            "99   Benedetta  assassin              5.0              6.0   \n",
            "100      Brody  marksman              6.0              9.0   \n",
            "101    Natalia  assassin              6.0              9.0   \n",
            "102   Silvanna   fighter              6.0              6.0   \n",
            "\n",
            "     skill_effect_overall  difficulty_overall  movement_spd  magic_defense  \\\n",
            "0                     6.0                 6.0           255             10   \n",
            "1                     5.0                 5.0           260             10   \n",
            "2                     6.0                 4.0           260             10   \n",
            "3                     9.0                 5.0           255             10   \n",
            "4                     8.0                 7.0           260             10   \n",
            "..                    ...                 ...           ...            ...   \n",
            "98                    6.0                 4.0           240             10   \n",
            "99                    7.0                 7.0           260             10   \n",
            "100                   4.0                 7.0           253             10   \n",
            "101                   4.0                 6.0           250             10   \n",
            "102                   5.0                 4.0           255             10   \n",
            "\n",
            "     mana  hp_regen  physical_atk  physical_defense    hp  attack_speed  \\\n",
            "0     430        54           129                19  2728          0.80   \n",
            "1       0        35           128                25  2738          0.86   \n",
            "2     430        42           135                21  2819          0.81   \n",
            "3     430        39           126                25  2528          0.91   \n",
            "4     438        35           118                17  2540          0.82   \n",
            "..    ...       ...           ...               ...   ...           ...   \n",
            "98    502        36           114                21  2573          0.80   \n",
            "99    460        33           128                15  2499          0.88   \n",
            "100   435        36           140                14  2490          0.96   \n",
            "101   486        35           121                18  2589          0.89   \n",
            "102   430        39           126                22  2828          0.91   \n",
            "\n",
            "     mana_regen  win_rate  pick_rate  ban_rate  \n",
            "0          21.0     47.00       0.15      0.02  \n",
            "1           0.0     45.00       0.15      0.02  \n",
            "2          12.0     47.69       0.14      0.02  \n",
            "3          16.0     53.76       0.08      0.02  \n",
            "4          15.0     51.52       0.38      0.03  \n",
            "..          ...       ...        ...       ...  \n",
            "98         20.0     49.14       1.25     42.29  \n",
            "99         16.0     52.38       0.72     49.46  \n",
            "100         3.0     51.57       0.71     60.05  \n",
            "101        15.0     47.76       0.41     61.29  \n",
            "102        16.0     52.65       3.06      9.59  \n",
            "\n",
            "[103 rows x 18 columns]\n"
          ]
        }
      ]
    },
    {
      "cell_type": "markdown",
      "source": [
        "Hapus kolom data, hanya sisakan nama hero, wr hero, role, pick rate, ban rate, dan tahun perilisan nya"
      ],
      "metadata": {
        "id": "2kJE7kV6YTFL"
      }
    },
    {
      "cell_type": "code",
      "source": [
        "hapus_Kolom = ['defense_overall', 'offense_overall', 'skill_effect_overall', 'difficulty_overall','movement_spd', 'magic_defense', 'mana', 'hp_regen', 'physical_atk','physical_defense', 'hp', 'attack_speed', 'mana_regen' ]\n",
        "databaru2 = dataori.drop(columns = hapus_Kolom)\n",
        "print(databaru2.head())\n"
      ],
      "metadata": {
        "colab": {
          "base_uri": "https://localhost:8080/"
        },
        "id": "rmVQ4u2aXnns",
        "outputId": "ce16f531-757b-4118-d02a-088bb31da056"
      },
      "execution_count": null,
      "outputs": [
        {
          "output_type": "stream",
          "name": "stdout",
          "text": [
            "  hero_name      role  win_rate  pick_rate  ban_rate  release_year\n",
            "0   Terizla   fighter     47.00       0.15      0.02          2019\n",
            "1    Martis   fighter     45.00       0.15      0.02          2018\n",
            "2     Grock      tank     47.69       0.14      0.02          2017\n",
            "3  Carmilla   support     53.76       0.08      0.02          2020\n",
            "4   Irithel  marksman     51.52       0.38      0.03          2017\n"
          ]
        }
      ]
    },
    {
      "cell_type": "code",
      "source": [
        "\n",
        "databaru2 = databaru2.rename(columns={'hero_name': 'nama_hero'})\n",
        "print (databaru2.head())"
      ],
      "metadata": {
        "colab": {
          "base_uri": "https://localhost:8080/"
        },
        "id": "fgrvPVEQo-SS",
        "outputId": "9fda1673-f863-4527-ff4e-8194b0cfaf58"
      },
      "execution_count": null,
      "outputs": [
        {
          "output_type": "stream",
          "name": "stdout",
          "text": [
            "  nama_hero      role  win_rate  pick_rate  ban_rate  release_year\n",
            "0   Terizla   fighter     47.00       0.15      0.02          2019\n",
            "1    Martis   fighter     45.00       0.15      0.02          2018\n",
            "2     Grock      tank     47.69       0.14      0.02          2017\n",
            "3  Carmilla   support     53.76       0.08      0.02          2020\n",
            "4   Irithel  marksman     51.52       0.38      0.03          2017\n"
          ]
        }
      ]
    },
    {
      "cell_type": "markdown",
      "source": [
        "Menambahkan data hero terbaru"
      ],
      "metadata": {
        "id": "o674Bbz6pr8h"
      }
    },
    {
      "cell_type": "code",
      "source": [
        "data_tambahan = {\n",
        "    'nama_hero': ['Valentina'],\n",
        "    'role': ['mage'],\n",
        "    'win_rate': [43.73],\n",
        "    'pick_rate': [0.28],\n",
        "    'ban_rate': [0.53],\n",
        "    'release_year': [2021]\n",
        "}\n",
        "data_tambahan_df = pd.DataFrame(data_tambahan)\n",
        "# Tambahkan data baru ke DataFrame menggunakan append\n",
        "databaru2 = pd.concat([databaru2, data_tambahan_df], ignore_index=True)\n",
        "# Cetak DataFrame setelah menambahkan data baru\n",
        "print(\"\\n Setelah menambahkan data baru: \\n\")\n",
        "print(databaru2)"
      ],
      "metadata": {
        "colab": {
          "base_uri": "https://localhost:8080/"
        },
        "id": "ELIgCHvFsNeB",
        "outputId": "818e8a8a-908e-4a24-bd3b-2c5da5de798f"
      },
      "execution_count": null,
      "outputs": [
        {
          "output_type": "stream",
          "name": "stdout",
          "text": [
            "\n",
            " Setelah menambahkan data baru: \n",
            "\n",
            "     nama_hero      role  win_rate  pick_rate  ban_rate  release_year\n",
            "0      Terizla   fighter     47.00       0.15      0.02          2019\n",
            "1       Martis   fighter     45.00       0.15      0.02          2018\n",
            "2        Grock      tank     47.69       0.14      0.02          2017\n",
            "3     Carmilla   support     53.76       0.08      0.02          2020\n",
            "4      Irithel  marksman     51.52       0.38      0.03          2017\n",
            "..         ...       ...       ...        ...       ...           ...\n",
            "99   Benedetta  assassin     52.38       0.72     49.46          2020\n",
            "100      Brody  marksman     51.57       0.71     60.05          2020\n",
            "101    Natalia  assassin     47.76       0.41     61.29          2016\n",
            "102   Silvanna   fighter     52.65       3.06      9.59          2019\n",
            "103  Valentina      mage     43.73       0.28      0.53          2021\n",
            "\n",
            "[104 rows x 6 columns]\n"
          ]
        }
      ]
    },
    {
      "cell_type": "code",
      "source": [
        "data_tambahan = {\n",
        "    'nama_hero': ['Yve'],\n",
        "    'role': ['mage'],\n",
        "    'win_rate': [48.08],\n",
        "    'pick_rate': [0.29],\n",
        "    'ban_rate': [0.18],\n",
        "    'release_year': [2021]\n",
        "}\n",
        "data_tambahan_df = pd.DataFrame(data_tambahan)\n",
        "# Tambahkan data baru ke DataFrame menggunakan append\n",
        "databaru2 = pd.concat([databaru2, data_tambahan_df], ignore_index=True)\n",
        "# Cetak DataFrame setelah menambahkan data baru\n",
        "print(\"\\n Setelah menambahkan data baru: \\n\")\n",
        "print(databaru2)"
      ],
      "metadata": {
        "colab": {
          "base_uri": "https://localhost:8080/"
        },
        "id": "YrXu_AQJtaw1",
        "outputId": "380b1eab-4a62-4d0b-e337-4ea83c21e3a5"
      },
      "execution_count": null,
      "outputs": [
        {
          "output_type": "stream",
          "name": "stdout",
          "text": [
            "\n",
            " Setelah menambahkan data baru: \n",
            "\n",
            "     nama_hero      role  win_rate  pick_rate  ban_rate  release_year\n",
            "0      Terizla   fighter     47.00       0.15      0.02          2019\n",
            "1       Martis   fighter     45.00       0.15      0.02          2018\n",
            "2        Grock      tank     47.69       0.14      0.02          2017\n",
            "3     Carmilla   support     53.76       0.08      0.02          2020\n",
            "4      Irithel  marksman     51.52       0.38      0.03          2017\n",
            "..         ...       ...       ...        ...       ...           ...\n",
            "100      Brody  marksman     51.57       0.71     60.05          2020\n",
            "101    Natalia  assassin     47.76       0.41     61.29          2016\n",
            "102   Silvanna   fighter     52.65       3.06      9.59          2019\n",
            "103  Valentina      mage     43.73       0.28      0.53          2021\n",
            "104        Yve      mage     48.08       0.29      0.18          2021\n",
            "\n",
            "[105 rows x 6 columns]\n"
          ]
        }
      ]
    },
    {
      "cell_type": "code",
      "source": [
        "print(databaru2)"
      ],
      "metadata": {
        "colab": {
          "base_uri": "https://localhost:8080/"
        },
        "id": "vA5EGN-PspH5",
        "outputId": "80933e61-4de9-4364-e624-82c8bef99e56"
      },
      "execution_count": null,
      "outputs": [
        {
          "output_type": "stream",
          "name": "stdout",
          "text": [
            "     nama_hero      role  win_rate  pick_rate  ban_rate  release_year\n",
            "0      Terizla   fighter     47.00       0.15      0.02          2019\n",
            "1       Martis   fighter     45.00       0.15      0.02          2018\n",
            "2        Grock      tank     47.69       0.14      0.02          2017\n",
            "3     Carmilla   support     53.76       0.08      0.02          2020\n",
            "4      Irithel  marksman     51.52       0.38      0.03          2017\n",
            "..         ...       ...       ...        ...       ...           ...\n",
            "100      Brody  marksman     51.57       0.71     60.05          2020\n",
            "101    Natalia  assassin     47.76       0.41     61.29          2016\n",
            "102   Silvanna   fighter     52.65       3.06      9.59          2019\n",
            "103  Valentina      mage     43.73       0.28      0.53          2021\n",
            "104        Yve      mage     48.08       0.29      0.18          2021\n",
            "\n",
            "[105 rows x 6 columns]\n"
          ]
        }
      ]
    },
    {
      "cell_type": "markdown",
      "source": [
        "Pengecekan data baru"
      ],
      "metadata": {
        "id": "hN8j_dM5wzg6"
      }
    },
    {
      "cell_type": "code",
      "source": [
        "print(\"jumlah baris dan kolom\")\n",
        "print(databaru2.shape)\n",
        "print(sorted(dataori.isna().sum())) #Mengecek nilai Kosong"
      ],
      "metadata": {
        "colab": {
          "base_uri": "https://localhost:8080/"
        },
        "id": "LG6b9bvNwyif",
        "outputId": "915b9af4-12f1-4cb6-eeca-f02e14407db7"
      },
      "execution_count": null,
      "outputs": [
        {
          "output_type": "stream",
          "name": "stdout",
          "text": [
            "jumlah baris dan kolom\n",
            "(105, 6)\n"
          ]
        }
      ]
    },
    {
      "cell_type": "code",
      "source": [
        "print (databaru2.describe())"
      ],
      "metadata": {
        "colab": {
          "base_uri": "https://localhost:8080/"
        },
        "id": "6_-RqEZexL0l",
        "outputId": "a93c78f4-a091-4c93-a5ab-ece2dfc9915c"
      },
      "execution_count": null,
      "outputs": [
        {
          "output_type": "stream",
          "name": "stdout",
          "text": [
            "         win_rate   pick_rate    ban_rate  release_year\n",
            "count  105.000000  105.000000  105.000000    105.000000\n",
            "mean    50.101905    0.958000    4.383048   2017.723810\n",
            "std      2.411321    0.792071   11.478032      1.457707\n",
            "min     43.730000    0.050000    0.020000   2016.000000\n",
            "25%     48.330000    0.320000    0.080000   2016.000000\n",
            "50%     50.040000    0.720000    0.360000   2018.000000\n",
            "75%     51.730000    1.430000    2.240000   2019.000000\n",
            "max     56.490000    3.710000   61.290000   2021.000000\n"
          ]
        }
      ]
    },
    {
      "cell_type": "markdown",
      "source": [
        "Visualisasi data"
      ],
      "metadata": {
        "id": "LDeaYJHryIFa"
      }
    },
    {
      "cell_type": "code",
      "source": [
        "from matplotlib import pyplot as plt\n",
        "import seaborn as sns\n",
        "databaru2.groupby('role').size().plot(kind='barh', color=sns.palettes.mpl_palette('Dark2'))\n",
        "plt.gca().spines[['top', 'right',]].set_visible(False)"
      ],
      "metadata": {
        "colab": {
          "base_uri": "https://localhost:8080/",
          "height": 430
        },
        "id": "fBQXMZvtyGS1",
        "outputId": "a831eddc-43dd-49e8-835f-e3665fa3da8d"
      },
      "execution_count": null,
      "outputs": [
        {
          "output_type": "display_data",
          "data": {
            "text/plain": [
              "<Figure size 640x480 with 1 Axes>"
            ],
            "image/png": "[encoded data removed]"
          },
          "metadata": {}
        }
      ]
    },
    {
      "cell_type": "markdown",
      "source": [
        "Save dataset baru\n"
      ],
      "metadata": {
        "id": "01xULucLzAqu"
      }
    },
    {
      "cell_type": "code",
      "source": [
        "databaru2.to_csv('dataset MLBB_Edit.csv', index=False)"
      ],
      "metadata": {
        "id": "37kFfPtp0J7j"
      },
      "execution_count": null,
      "outputs": []
    },
    {
      "cell_type": "markdown",
      "source": [
        "Feature Scaling"
      ],
      "metadata": {
        "id": "QFJwIE6HaEFL"
      }
    },
    {
      "cell_type": "code",
      "source": [
        "from sklearn.preprocessing import MinMaxScaler\n",
        "data_Featurescaling = databaru2  # Isi dengan DataFrame Anda\n",
        "# Memilih fitur numerik yang akan di-scaling\n",
        "numerical_features = ['win_rate', 'pick_rate', 'ban_rate', 'release_year']\n",
        "# Min-Max Scaling\n",
        "scaler = MinMaxScaler()\n",
        "data[numerical_features] = scaler.fit_transform(data[numerical_features])\n",
        "\n",
        "print(data_Featurescaling)"
      ],
      "metadata": {
        "colab": {
          "base_uri": "https://localhost:8080/"
        },
        "id": "3B3CIAq7JWC_",
        "outputId": "eb99a957-5023-4909-be0f-dbbb08740b52"
      },
      "execution_count": null,
      "outputs": [
        {
          "output_type": "stream",
          "name": "stdout",
          "text": [
            "     nama_hero      role  win_rate  pick_rate  ban_rate  release_year\n",
            "0      Terizla   fighter  0.256270   0.027322  0.000000           0.6\n",
            "1       Martis   fighter  0.099530   0.027322  0.000000           0.4\n",
            "2        Grock      tank  0.310345   0.024590  0.000000           0.2\n",
            "3     Carmilla   support  0.786050   0.008197  0.000000           0.8\n",
            "4      Irithel  marksman  0.610502   0.090164  0.000163           0.2\n",
            "..         ...       ...       ...        ...       ...           ...\n",
            "100      Brody  marksman  0.614420   0.180328  0.979762           0.8\n",
            "101    Natalia  assassin  0.315831   0.098361  1.000000           0.0\n",
            "102   Silvanna   fighter  0.699060   0.822404  0.156194           0.6\n",
            "103  Valentina      mage  0.000000   0.062842  0.008324           1.0\n",
            "104        Yve      mage  0.340909   0.065574  0.002611           1.0\n",
            "\n",
            "[105 rows x 6 columns]\n"
          ]
        }
      ]
    },
    {
      "cell_type": "markdown",
      "source": [
        "visualisasi data sebelum Vs SESUDAH"
      ],
      "metadata": {
        "id": "AIqiWsV2RBZS"
      }
    },
    {
      "cell_type": "code",
      "source": [
        "#visualisasi data sebelum  melakukan feature sclain\n",
        "\n",
        "from matplotlib import pyplot as plt\n",
        "import seaborn as sns\n",
        "figsize = (12, 1.2 * len(databaru2['role'].unique()))\n",
        "plt.figure(figsize=figsize)\n",
        "sns.violinplot(databaru2, x='win_rate', y='role', inner='stick', palette='Dark2')\n",
        "sns.despine(top=True, right=True, bottom=True, left=True)\n"
      ],
      "metadata": {
        "colab": {
          "base_uri": "https://localhost:8080/",
          "height": 725
        },
        "id": "_DY6RIK0O8YH",
        "outputId": "88196e01-1add-4114-bcd2-daa218f6615a"
      },
      "execution_count": null,
      "outputs": [
        {
          "output_type": "stream",
          "name": "stderr",
          "text": [
            "<ipython-input-66-fc31651ebea6>:7: FutureWarning: \n",
            "\n",
            "Passing `palette` without assigning `hue` is deprecated and will be removed in v0.14.0. Assign the `y` variable to `hue` and set `legend=False` for the same effect.\n",
            "\n",
            "  sns.violinplot(databaru2, x='win_rate', y='role', inner='stick', palette='Dark2')\n"
          ]
        },
        {
          "output_type": "display_data",
          "data": {
            "text/plain": [
              "<Figure size 1200x720 with 1 Axes>"
            ],
            "image/png": "[encoded data removed]"
          },
          "metadata": {}
        }
      ]
    },
    {
      "cell_type": "code",
      "source": [
        "#visualisasi data setelah  melakukan feature sclain\n",
        "\n",
        "from matplotlib import pyplot as plt\n",
        "import seaborn as sns\n",
        "figsize = (12, 1.2 * len(data_Featurescaling['role'].unique()))\n",
        "plt.figure(figsize=figsize)\n",
        "sns.violinplot(data_Featurescaling, x='win_rate', y='role', inner='stick', palette='Dark2')\n",
        "sns.despine(top=True, right=True, bottom=True, left=True)"
      ],
      "metadata": {
        "colab": {
          "base_uri": "https://localhost:8080/",
          "height": 725
        },
        "id": "ncb_jPblSJDj",
        "outputId": "150ad586-b9a9-4657-96f8-4e4b898d269a"
      },
      "execution_count": 70,
      "outputs": [
        {
          "output_type": "stream",
          "name": "stderr",
          "text": [
            "<ipython-input-70-6f191eb2b9fd>:7: FutureWarning: \n",
            "\n",
            "Passing `palette` without assigning `hue` is deprecated and will be removed in v0.14.0. Assign the `y` variable to `hue` and set `legend=False` for the same effect.\n",
            "\n",
            "  sns.violinplot(data_Featurescaling, x='win_rate', y='role', inner='stick', palette='Dark2')\n"
          ]
        },
        {
          "output_type": "display_data",
          "data": {
            "text/plain": [
              "<Figure size 1200x720 with 1 Axes>"
            ],
            "image/png": "[encoded data removed]"
          },
          "metadata": {}
        }
      ]
    }
  ]
}